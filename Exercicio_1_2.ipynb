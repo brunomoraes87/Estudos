{
  "nbformat": 4,
  "nbformat_minor": 0,
  "metadata": {
    "colab": {
      "provenance": [],
      "authorship_tag": "ABX9TyPW0eKZOJdf74yDxuJzVoT3",
      "include_colab_link": true
    },
    "kernelspec": {
      "name": "python3",
      "display_name": "Python 3"
    },
    "language_info": {
      "name": "python"
    }
  },
  "cells": [
    {
      "cell_type": "markdown",
      "metadata": {
        "id": "view-in-github",
        "colab_type": "text"
      },
      "source": [
        "<a href=\"https://colab.research.google.com/github/brunomoraes87/Estudos/blob/main/Exercicio_1_2.ipynb\" target=\"_parent\"><img src=\"https://colab.research.google.com/assets/colab-badge.svg\" alt=\"Open In Colab\"/></a>"
      ]
    },
    {
      "cell_type": "code",
      "execution_count": 1,
      "metadata": {
        "colab": {
          "base_uri": "https://localhost:8080/"
        },
        "id": "hrEX5sve1Cq7",
        "outputId": "a01d5e2e-0d39-4ae7-9b94-0bc6198cac3b"
      },
      "outputs": [
        {
          "output_type": "stream",
          "name": "stdout",
          "text": [
            "Qual é o preço do produto?30\n",
            "O preço do produto escolhido é 30.00\n",
            " pagando a vista você ganha 1.50 de desconto\n",
            " e o valor com desconto é 28.50\n"
          ]
        }
      ],
      "source": [
        "# Faça um algoritimo que leia o preço de um produto e mostre seu novo preço com desconto de 5% de desconto\n",
        "n1 = float(input(\"Qual é o preço do produto?\"))\n",
        "d = float(n1 * 0.05)\n",
        "n2 = n1 - d\n",
        "print(\"O preço do produto escolhido é {:.2f}\\n pagando a vista você ganha {:.2f} de desconto\\n e o valor com desconto é {:.2f}\".format(n1, d, n2))"
      ]
    }
  ]
}