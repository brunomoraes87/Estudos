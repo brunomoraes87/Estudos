{
  "nbformat": 4,
  "nbformat_minor": 0,
  "metadata": {
    "colab": {
      "provenance": [],
      "authorship_tag": "ABX9TyNraHMzeD2sRLXvtTmgUdB3",
      "include_colab_link": true
    },
    "kernelspec": {
      "name": "python3",
      "display_name": "Python 3"
    },
    "language_info": {
      "name": "python"
    }
  },
  "cells": [
    {
      "cell_type": "markdown",
      "metadata": {
        "id": "view-in-github",
        "colab_type": "text"
      },
      "source": [
        "<a href=\"https://colab.research.google.com/github/brunomoraes87/Estudos/blob/main/Exercicio_5_2.ipynb\" target=\"_parent\"><img src=\"https://colab.research.google.com/assets/colab-badge.svg\" alt=\"Open In Colab\"/></a>"
      ]
    },
    {
      "cell_type": "code",
      "execution_count": 2,
      "metadata": {
        "colab": {
          "base_uri": "https://localhost:8080/"
        },
        "id": "uS2DtUHmHsjd",
        "outputId": "d3f13784-6283-4114-bc20-587dc25fd319"
      },
      "outputs": [
        {
          "output_type": "stream",
          "name": "stdout",
          "text": [
            "Em qual ano você nasceu? 2007\n",
            "Em qual ano você nasceu? 1987\n",
            "Em qual ano você nasceu? 2003\n",
            "Em qual ano você nasceu? 2005\n",
            "Em qual ano você nasceu? 2010\n",
            "Em qual ano você nasceu? 1999\n",
            "Em qual ano você nasceu? 1987\n",
            "Das pessoas entrevistadas 3 são maiores de idade e 4 são menores de idade\n"
          ]
        }
      ],
      "source": [
        "# CRIE UM PROGRAMA QUE LEIA O ANO DE NASCIMENTO DE SETE PESSOAS. NO FINAL, MOSTRE QUANTAS PESSOAS AINDA NÃO ATINGIRAM A MAIORIDADE E QUANTAS JÁ SÃO MAIORES.\n",
        "\n",
        "ano = int(2020)\n",
        "cont = 0\n",
        "cont1 = 0\n",
        "for i in range(1,8):\n",
        "    nasc = int(input(\"Em qual ano você nasceu? \"))\n",
        "    idade = 2020 - nasc\n",
        "    if idade > 18:\n",
        "        cont = cont + 1\n",
        "    else:\n",
        "        cont1 = cont1 + 1\n",
        "print(\"Das pessoas entrevistadas {} são maiores de idade e {} são menores de idade\".format(cont,cont1))"
      ]
    }
  ]
}