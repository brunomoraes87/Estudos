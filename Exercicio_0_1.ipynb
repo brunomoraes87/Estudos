{
  "nbformat": 4,
  "nbformat_minor": 0,
  "metadata": {
    "colab": {
      "provenance": [],
      "authorship_tag": "ABX9TyOboZtHwDCtG7Q0aQCsCCpZ",
      "include_colab_link": true
    },
    "kernelspec": {
      "name": "python3",
      "display_name": "Python 3"
    },
    "language_info": {
      "name": "python"
    }
  },
  "cells": [
    {
      "cell_type": "markdown",
      "metadata": {
        "id": "view-in-github",
        "colab_type": "text"
      },
      "source": [
        "<a href=\"https://colab.research.google.com/github/brunomoraes87/Estudos/blob/main/Exercicio_0_1.ipynb\" target=\"_parent\"><img src=\"https://colab.research.google.com/assets/colab-badge.svg\" alt=\"Open In Colab\"/></a>"
      ]
    },
    {
      "cell_type": "code",
      "execution_count": null,
      "metadata": {
        "colab": {
          "base_uri": "https://localhost:8080/"
        },
        "id": "xljNIoz7crzW",
        "outputId": "5b3fa74b-33d2-4458-bd88-574a8eb005e9"
      },
      "outputs": [
        {
          "output_type": "stream",
          "name": "stdout",
          "text": [
            "olá,\u001b[1;35;40mHello World!\u001b[m\n"
          ]
        }
      ],
      "source": [
        "msg = ('Hello World!')\n",
        "cor = {'branco':'\\033[1;35;40m',\n",
        "       'limpa':'\\033[m'}\n",
        "print('olá,{}{}{}'.format(cor['branco'], msg , cor['limpa']))"
      ]
    }
  ]
}