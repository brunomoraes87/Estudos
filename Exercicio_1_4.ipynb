{
  "nbformat": 4,
  "nbformat_minor": 0,
  "metadata": {
    "colab": {
      "provenance": [],
      "authorship_tag": "ABX9TyNDpaBorgPXEcGbnB+bjTsd",
      "include_colab_link": true
    },
    "kernelspec": {
      "name": "python3",
      "display_name": "Python 3"
    },
    "language_info": {
      "name": "python"
    }
  },
  "cells": [
    {
      "cell_type": "markdown",
      "metadata": {
        "id": "view-in-github",
        "colab_type": "text"
      },
      "source": [
        "<a href=\"https://colab.research.google.com/github/brunomoraes87/Estudos/blob/main/Exercicio_1_4.ipynb\" target=\"_parent\"><img src=\"https://colab.research.google.com/assets/colab-badge.svg\" alt=\"Open In Colab\"/></a>"
      ]
    },
    {
      "cell_type": "code",
      "execution_count": 1,
      "metadata": {
        "colab": {
          "base_uri": "https://localhost:8080/"
        },
        "id": "H5eQhwAv1qH1",
        "outputId": "b2d859b7-d360-403e-de6f-55175bc63178"
      },
      "outputs": [
        {
          "output_type": "stream",
          "name": "stdout",
          "text": [
            "Digite a Temperatura.36\n",
            "A temperatura de 36.0 °C corresponde a 96.8°F\n"
          ]
        }
      ],
      "source": [
        "# ESCREVA UM PROGRAMA QUE CONVERTA UMA TEMPERATURA DIGITADA EM °C E CONVERTA PARA °F.\n",
        "t = float(input(\"Digite a Temperatura.\"))\n",
        "f = 9 * t / 5 + 32\n",
        "print(\"A temperatura de {} °C corresponde a {}°F\".format(t, f))"
      ]
    }
  ]
}