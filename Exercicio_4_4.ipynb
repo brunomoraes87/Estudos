{
  "nbformat": 4,
  "nbformat_minor": 0,
  "metadata": {
    "colab": {
      "provenance": [],
      "authorship_tag": "ABX9TyNA/UwJgjGLJkOSS5ExBmOO",
      "include_colab_link": true
    },
    "kernelspec": {
      "name": "python3",
      "display_name": "Python 3"
    },
    "language_info": {
      "name": "python"
    }
  },
  "cells": [
    {
      "cell_type": "markdown",
      "metadata": {
        "id": "view-in-github",
        "colab_type": "text"
      },
      "source": [
        "<a href=\"https://colab.research.google.com/github/brunomoraes87/Estudos/blob/main/Exercicio_4_4.ipynb\" target=\"_parent\"><img src=\"https://colab.research.google.com/assets/colab-badge.svg\" alt=\"Open In Colab\"/></a>"
      ]
    },
    {
      "cell_type": "code",
      "execution_count": 2,
      "metadata": {
        "colab": {
          "base_uri": "https://localhost:8080/"
        },
        "id": "kEi0kou2D1p0",
        "outputId": "45c8563b-0fe2-42ca-bb50-c130b48ea77b"
      },
      "outputs": [
        {
          "output_type": "stream",
          "name": "stdout",
          "text": [
            "Suas Opções:\n",
            "[ 0 ] PEDRA\n",
            "[ 1 ] PAPEL\n",
            "[ 2 ] TESOURA\n",
            "Qual é a sua Jogada?: 2\n",
            "JO\n",
            "KEN\n",
            "PO!\n",
            "=-=-=-=-=-=-=-=-=-=-=-=-=-=-=-=-=-=-=-=-\n",
            "COMPUTADOR JOGOU Papel\n",
            "O JOGADOR JOGOU Tesoura\n",
            "=-=-=-=-=-=-=-=-=-=-=-=-=-=-=-=-=-=-=-=-\n",
            "O JOGADOR VENCEU!\n"
          ]
        }
      ],
      "source": [
        "# CRIE UM PROGRAMA QUE FAÇA O COMPUTADOR JOGAR JOKENPO COM VOCÊ\n",
        "\n",
        "from random import randint\n",
        "from time import sleep\n",
        "\n",
        "itens = ('Pedra', 'Papel', 'Tesoura')\n",
        "computador = randint(0,2)\n",
        "\n",
        "print('''Suas Opções:\n",
        "[ 0 ] PEDRA\n",
        "[ 1 ] PAPEL\n",
        "[ 2 ] TESOURA''')\n",
        "\n",
        "jogador = int(input(\"Qual é a sua Jogada?: \"))\n",
        "\n",
        "if jogador == 0 or jogador == 1 or jogador == 2:\n",
        "\n",
        "    print(\"JO\")\n",
        "    sleep(1)\n",
        "    print(\"KEN\")\n",
        "    sleep(1)\n",
        "    print(\"PO!\")\n",
        "\n",
        "    print(\"=-\"*20)\n",
        "    print(\"COMPUTADOR JOGOU {}\".format(itens[computador]))\n",
        "    print(\"O JOGADOR JOGOU {}\".format(itens[jogador]))\n",
        "    print(\"=-\"*20)\n",
        "\n",
        "    if jogador == 0: # JOGADOR JOGOU PEDRA\n",
        "        if computador == 0:\n",
        "            print(\"O JOGO EMPATOU!\")\n",
        "        elif computador == 1:\n",
        "            print(\"O COMPUTADOR VENCEU!\")\n",
        "        elif computador == 2:\n",
        "            print(\"O JOGADOR VENCEU!\")\n",
        "        else:\n",
        "            print(\"JOGADA INVALIDA!\")\n",
        "    elif jogador == 1: # JOGADOR JOGOU PAPEL\n",
        "        if computador == 1:\n",
        "            print(\"O JOGO EMPATOU!\")\n",
        "        elif computador == 2:\n",
        "            print(\"O COMPUTADOR VENCEU!\")\n",
        "        elif computador == 1:\n",
        "            print(\"O JOGADOR VENCEU!\")\n",
        "        else:\n",
        "            print(\"JOGADA INVALIDA!\")\n",
        "    elif jogador == 2: #JOGADOR JOGOU TESOURA\n",
        "        if computador == 2:\n",
        "            print(\"O JOGO EMPATOU!\")\n",
        "        elif computador == 0:\n",
        "            print(\"O COMPUTADOR VENCEU!\")\n",
        "        elif computador == 1:\n",
        "            print(\"O JOGADOR VENCEU!\")\n",
        "        else:\n",
        "            print(\"JOGADA INVALIDA!\")\n",
        "else:\n",
        "    print(\"JOGADA INVALIDA!\")"
      ]
    }
  ]
}