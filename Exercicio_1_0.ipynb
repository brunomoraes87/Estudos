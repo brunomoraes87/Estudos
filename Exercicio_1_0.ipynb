{
  "nbformat": 4,
  "nbformat_minor": 0,
  "metadata": {
    "colab": {
      "provenance": [],
      "authorship_tag": "ABX9TyOZEJ+uaAwvCCVZ4i4o69nA",
      "include_colab_link": true
    },
    "kernelspec": {
      "name": "python3",
      "display_name": "Python 3"
    },
    "language_info": {
      "name": "python"
    }
  },
  "cells": [
    {
      "cell_type": "markdown",
      "metadata": {
        "id": "view-in-github",
        "colab_type": "text"
      },
      "source": [
        "<a href=\"https://colab.research.google.com/github/brunomoraes87/Estudos/blob/main/Exercicio_1_0.ipynb\" target=\"_parent\"><img src=\"https://colab.research.google.com/assets/colab-badge.svg\" alt=\"Open In Colab\"/></a>"
      ]
    },
    {
      "cell_type": "code",
      "execution_count": 2,
      "metadata": {
        "colab": {
          "base_uri": "https://localhost:8080/"
        },
        "id": "I9OyO3Ts0VOG",
        "outputId": "8c634aed-9206-4b4e-90db-120796ad6a9c"
      },
      "outputs": [
        {
          "output_type": "stream",
          "name": "stdout",
          "text": [
            "Quanto você tem na sua carteira?350\n",
            "Com R$ 350.0  você consegue comprar US$ 69.17 \n"
          ]
        }
      ],
      "source": [
        "# Crie um programa que leia o quanto uma pessoa tem na carteira e mostre quantos dolares ela pode comprar\n",
        "c1 = float(input('Quanto você tem na sua carteira?'))\n",
        "co = float(5.06)\n",
        "d1 = c1 / co\n",
        "print('Com R$ {}  você consegue comprar US$ {:.2f} '.format(c1, d1))"
      ]
    }
  ]
}