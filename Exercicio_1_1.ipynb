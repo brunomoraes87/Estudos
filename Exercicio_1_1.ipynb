{
  "nbformat": 4,
  "nbformat_minor": 0,
  "metadata": {
    "colab": {
      "provenance": [],
      "authorship_tag": "ABX9TyM0kdsoHCv3HcaSIQoG4+B3",
      "include_colab_link": true
    },
    "kernelspec": {
      "name": "python3",
      "display_name": "Python 3"
    },
    "language_info": {
      "name": "python"
    }
  },
  "cells": [
    {
      "cell_type": "markdown",
      "metadata": {
        "id": "view-in-github",
        "colab_type": "text"
      },
      "source": [
        "<a href=\"https://colab.research.google.com/github/brunomoraes87/Estudos/blob/main/Exercicio_1_1.ipynb\" target=\"_parent\"><img src=\"https://colab.research.google.com/assets/colab-badge.svg\" alt=\"Open In Colab\"/></a>"
      ]
    },
    {
      "cell_type": "code",
      "execution_count": 1,
      "metadata": {
        "colab": {
          "base_uri": "https://localhost:8080/"
        },
        "id": "9SpW_mJb0rAf",
        "outputId": "44f0dec6-90b3-4a8a-b42d-38b6a0613899"
      },
      "outputs": [
        {
          "output_type": "stream",
          "name": "stdout",
          "text": [
            "Qual é o largura da parede3\n",
            "Qual é a altura da parede?2\n",
            "Sua parede tem a dimensão de 3.0 x 2.0 e a sua area é 6.0 M²\n",
            "Para pintar a parede será necessario 3.0 litros de tinta\n"
          ]
        }
      ],
      "source": [
        "# Faça um programa que leia a largura e a altura de uma parede em metros, calcule a sua area e a quantidade de tinta necessaria para pinta-la, sabendo que cada litro de tinta pinta uma area de 2m quadrados\n",
        "l1 = float(input('Qual é o largura da parede'))\n",
        "l2 = float(input('Qual é a altura da parede?'))\n",
        "t1 = l1 * l2\n",
        "v1 = t1 / 2\n",
        "print('Sua parede tem a dimensão de {} x {} e a sua area é {:3} M²'.format(l1, l2, t1))\n",
        "print('Para pintar a parede será necessario {} litros de tinta'.format(v1))"
      ]
    }
  ]
}