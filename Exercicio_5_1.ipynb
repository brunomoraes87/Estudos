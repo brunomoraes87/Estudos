{
  "nbformat": 4,
  "nbformat_minor": 0,
  "metadata": {
    "colab": {
      "provenance": [],
      "authorship_tag": "ABX9TyPLrcoKACAZUueu2Vw49orU",
      "include_colab_link": true
    },
    "kernelspec": {
      "name": "python3",
      "display_name": "Python 3"
    },
    "language_info": {
      "name": "python"
    }
  },
  "cells": [
    {
      "cell_type": "markdown",
      "metadata": {
        "id": "view-in-github",
        "colab_type": "text"
      },
      "source": [
        "<a href=\"https://colab.research.google.com/github/brunomoraes87/Estudos/blob/main/Exercicio_5_1.ipynb\" target=\"_parent\"><img src=\"https://colab.research.google.com/assets/colab-badge.svg\" alt=\"Open In Colab\"/></a>"
      ]
    },
    {
      "cell_type": "code",
      "execution_count": 2,
      "metadata": {
        "colab": {
          "base_uri": "https://localhost:8080/"
        },
        "id": "IKdmYJ7jHU2L",
        "outputId": "1b810a9f-9c6b-4181-b0d1-28be6da8f0d4"
      },
      "outputs": [
        {
          "output_type": "stream",
          "name": "stdout",
          "text": [
            "Digite um numero: 35\n",
            "1 2 3 4 5 6 7 8 9 10 11 12 13 14 15 16 17 18 19 20 21 22 23 24 25 26 27 28 29 30 31 32 33 34 35 \n",
            "O numero 35 foi divisivel 4 vezes\n",
            "E por isso ele NÃO É PRIMO\n"
          ]
        }
      ],
      "source": [
        "# FAÇA UM PROGRAMA QUE LEIA UM NÚMERO INTEIRO E DIGA SE ELE É OU NÃO UM NUMERO PRIMO.\n",
        "\n",
        "cont = 0\n",
        "s1 = str()\n",
        "n1 = int(input(\"Digite um numero: \"))\n",
        "for i in range(1,n1+1,1):\n",
        "    if n1 % i == 0:\n",
        "        cont = cont + 1\n",
        "        if cont > 2:\n",
        "            s1 = \"NÃO É PRIMO\"\n",
        "        else:\n",
        "            s1 = \"É PRIMO\"\n",
        "    print(i, end=\" \")\n",
        "print(\"\\nO numero {} foi divisivel {} vezes\".format(n1,cont))\n",
        "print(\"E por isso ele {}\".format(s1))"
      ]
    }
  ]
}