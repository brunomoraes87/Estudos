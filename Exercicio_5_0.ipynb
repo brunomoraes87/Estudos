{
  "nbformat": 4,
  "nbformat_minor": 0,
  "metadata": {
    "colab": {
      "provenance": [],
      "authorship_tag": "ABX9TyNXKFGLfL+WoeCIArZDlQZh",
      "include_colab_link": true
    },
    "kernelspec": {
      "name": "python3",
      "display_name": "Python 3"
    },
    "language_info": {
      "name": "python"
    }
  },
  "cells": [
    {
      "cell_type": "markdown",
      "metadata": {
        "id": "view-in-github",
        "colab_type": "text"
      },
      "source": [
        "<a href=\"https://colab.research.google.com/github/brunomoraes87/Estudos/blob/main/Exercicio_5_0.ipynb\" target=\"_parent\"><img src=\"https://colab.research.google.com/assets/colab-badge.svg\" alt=\"Open In Colab\"/></a>"
      ]
    },
    {
      "cell_type": "code",
      "execution_count": 1,
      "metadata": {
        "colab": {
          "base_uri": "https://localhost:8080/"
        },
        "id": "nvwSolAdG34C",
        "outputId": "853a1373-2bab-4588-bb71-6b8f93f2d71e"
      },
      "outputs": [
        {
          "output_type": "stream",
          "name": "stdout",
          "text": [
            "Numero inicial: 12\n",
            "Razão: 3\n",
            "12 -> 15 -> 18 -> 21 -> 24 -> 27 -> ACABOU\n"
          ]
        }
      ],
      "source": [
        "# DESENVOLVA UM PROGRAMA QUE LEIA O PRIMEIRO TERMO E A RAZÃO DE UMA PROGREÇÃO ARITMETICA. NO FINAL, MOSTRE OS 10 PRIMEIROS TERMOS DESSA PROGRESSÃO.\n",
        "\n",
        "n1 = int(input(\"Numero inicial: \"))\n",
        "r1 = int(input(\"Razão: \"))\n",
        "d1 = r1 + (10 - 1) * r1\n",
        "for i in range(n1,d1,r1):\n",
        "    print(i,end=\" -> \")\n",
        "print(\"ACABOU\")"
      ]
    }
  ]
}