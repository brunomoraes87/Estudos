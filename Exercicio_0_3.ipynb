{
  "nbformat": 4,
  "nbformat_minor": 0,
  "metadata": {
    "colab": {
      "provenance": [],
      "authorship_tag": "ABX9TyNQPorgEEdJoYFN5OZB/CHE",
      "include_colab_link": true
    },
    "kernelspec": {
      "name": "python3",
      "display_name": "Python 3"
    },
    "language_info": {
      "name": "python"
    }
  },
  "cells": [
    {
      "cell_type": "markdown",
      "metadata": {
        "id": "view-in-github",
        "colab_type": "text"
      },
      "source": [
        "<a href=\"https://colab.research.google.com/github/brunomoraes87/Estudos/blob/main/Exercicio_0_3.ipynb\" target=\"_parent\"><img src=\"https://colab.research.google.com/assets/colab-badge.svg\" alt=\"Open In Colab\"/></a>"
      ]
    },
    {
      "cell_type": "code",
      "execution_count": 1,
      "metadata": {
        "colab": {
          "base_uri": "https://localhost:8080/"
        },
        "id": "Q2Ips6LgyDbV",
        "outputId": "a9b166a6-f137-46c3-a07c-e4d4cdcdde14"
      },
      "outputs": [
        {
          "output_type": "stream",
          "name": "stdout",
          "text": [
            "Digite um valor\n",
            "None7\n",
            "Digite outro valor\n",
            "None10\n",
            "A soma entre 7 e 10 vale 17\n"
          ]
        }
      ],
      "source": [
        "# Crie um programa que leia dois numeros e mostre a soma entre eles\n",
        "n1 = int(input(print('Digite um valor')))\n",
        "n2 = int(input(print('Digite outro valor')))\n",
        "s = (n1 + n2)\n",
        "print('A soma entre {} e {} vale {}'.format(n1, n2, s))"
      ]
    }
  ]
}