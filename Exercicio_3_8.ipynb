{
  "nbformat": 4,
  "nbformat_minor": 0,
  "metadata": {
    "colab": {
      "provenance": [],
      "authorship_tag": "ABX9TyMVHeQievWChY6A5Ux3IZrc",
      "include_colab_link": true
    },
    "kernelspec": {
      "name": "python3",
      "display_name": "Python 3"
    },
    "language_info": {
      "name": "python"
    }
  },
  "cells": [
    {
      "cell_type": "markdown",
      "metadata": {
        "id": "view-in-github",
        "colab_type": "text"
      },
      "source": [
        "<a href=\"https://colab.research.google.com/github/brunomoraes87/Estudos/blob/main/Exercicio_3_8.ipynb\" target=\"_parent\"><img src=\"https://colab.research.google.com/assets/colab-badge.svg\" alt=\"Open In Colab\"/></a>"
      ]
    },
    {
      "cell_type": "code",
      "execution_count": 3,
      "metadata": {
        "colab": {
          "base_uri": "https://localhost:8080/"
        },
        "id": "667erQB7BGoG",
        "outputId": "16ee8a89-cc21-4d5c-f69d-c19d0ec9b10a"
      },
      "outputs": [
        {
          "output_type": "stream",
          "name": "stdout",
          "text": [
            "Qual é o seu sexo? Digite uma opção abaixo: \n",
            "Digite [1] para MASCULINO\n",
            "Digite [2] para FEMININO\n",
            "RESPOSTA: 1\n",
            "Digite ano de nascimento: 1987\n",
            "Quem nasceu em 1987 tem 36 anos em 2023\n",
            "Você já deveria ter se alistado há 18 anos\n",
            "Seu alistamento foi em 2005\n"
          ]
        }
      ],
      "source": [
        "# FAÇA UM PROGRA,A QUE LEIA O ANO DE NASCIMENTO DE UM JOVEM E INFORME DE ACORDO COM SUA IDADE:\n",
        "# SE ELE AINDA VAI SE ALISTAR AO SERVIÇO MILITAR\n",
        "# SE É A HORA DE SE ALISTAR\n",
        "# SE JÁ PASSOU DO TEMPO DE ALISTAMENTO\n",
        "# SEU PROGRAMA TAMBÉM DEVERA MOSTRAR O TEMPO QUE FALTA OU QUE PASSOU DO PRAZO\n",
        "\n",
        "import datetime\n",
        "\n",
        "print(\"Qual é o seu sexo? Digite uma opção abaixo: \")\n",
        "sexo = input('''Digite [1] para MASCULINO\n",
        "Digite [2] para FEMININO\n",
        "RESPOSTA: ''')\n",
        "\n",
        "if sexo == \"2\":\n",
        "    print(\"Você não precisa se alistar!\")\n",
        "\n",
        "elif sexo == \"1\":\n",
        "    nasc = int(input('Digite ano de nascimento: '))\n",
        "    atual = int(datetime.date.today().year)\n",
        "    idade = int(atual - nasc)\n",
        "    if idade == 18:\n",
        "        print(\"Você deve se alistar IMEDIATAMENTE\")\n",
        "    elif idade < 18:\n",
        "        saldo = 18 - idade\n",
        "        print('Quem nasceu em {} tem {} anos em {}'.format(nasc,idade,atual))\n",
        "        print('Ainda faltam {} anos para o alistamento'.format(saldo))\n",
        "    elif idade > 18:\n",
        "        saldo = idade - 18\n",
        "        alist = nasc + 18\n",
        "        print('Quem nasceu em {} tem {} anos em {}'.format(nasc,idade,atual))\n",
        "        print('Você já deveria ter se alistado há {} anos'. format(saldo))\n",
        "        print('Seu alistamento foi em {}'.format(alist))"
      ]
    }
  ]
}