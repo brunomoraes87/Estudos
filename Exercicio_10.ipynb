{
  "nbformat": 4,
  "nbformat_minor": 0,
  "metadata": {
    "colab": {
      "provenance": [],
      "authorship_tag": "ABX9TyOZEJ+uaAwvCCVZ4i4o69nA",
      "include_colab_link": true
    },
    "kernelspec": {
      "name": "python3",
      "display_name": "Python 3"
    },
    "language_info": {
      "name": "python"
    }
  },
  "cells": [
    {
      "cell_type": "markdown",
      "metadata": {
        "id": "view-in-github",
        "colab_type": "text"
      },
      "source": [
        "<a href=\"https://colab.research.google.com/github/brunomoraes87/Estudos/blob/main/Exercicio_10.ipynb\" target=\"_parent\"><img src=\"https://colab.research.google.com/assets/colab-badge.svg\" alt=\"Open In Colab\"/></a>"
      ]
    },
    {
      "cell_type": "code",
      "execution_count": 1,
      "metadata": {
        "colab": {
          "base_uri": "https://localhost:8080/"
        },
        "id": "ojBeRDVlhIpj",
        "outputId": "2742dcc8-0922-4bfd-b5db-134e972ebe32"
      },
      "outputs": [
        {
          "output_type": "stream",
          "name": "stdout",
          "text": [
            "Quanto você tem na sua carteira?250\n",
            "Com R$ 250.0  você consegue comprar US$ 49.41 \n"
          ]
        }
      ],
      "source": [
        "# Crie um programa que leia o quanto uma pessoa tem na carteira e mostre quantos dolares ela pode comprar\n",
        "c1 = float(input('Quanto você tem na sua carteira?'))\n",
        "co = float(5.06)\n",
        "d1 = c1 / co\n",
        "print('Com R$ {}  você consegue comprar US$ {:.2f} '.format(c1, d1))"
      ]
    }
  ]
}