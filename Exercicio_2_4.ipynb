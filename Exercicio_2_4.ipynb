{
  "nbformat": 4,
  "nbformat_minor": 0,
  "metadata": {
    "colab": {
      "provenance": [],
      "authorship_tag": "ABX9TyPu0SfYNFRXr4gQUF3noHqC",
      "include_colab_link": true
    },
    "kernelspec": {
      "name": "python3",
      "display_name": "Python 3"
    },
    "language_info": {
      "name": "python"
    }
  },
  "cells": [
    {
      "cell_type": "markdown",
      "metadata": {
        "id": "view-in-github",
        "colab_type": "text"
      },
      "source": [
        "<a href=\"https://colab.research.google.com/github/brunomoraes87/Estudos/blob/main/Exercicio_2_4.ipynb\" target=\"_parent\"><img src=\"https://colab.research.google.com/assets/colab-badge.svg\" alt=\"Open In Colab\"/></a>"
      ]
    },
    {
      "cell_type": "code",
      "execution_count": 1,
      "metadata": {
        "colab": {
          "base_uri": "https://localhost:8080/"
        },
        "id": "U_KxxPzq6q4B",
        "outputId": "b9148f3c-1db4-4c04-a901-8c8f9d77b33c"
      },
      "outputs": [
        {
          "output_type": "stream",
          "name": "stdout",
          "text": [
            "Qual é o seu nome completo? Bruno da Silva Sauro\n",
            "Seu nome tem Silva? True\n"
          ]
        }
      ],
      "source": [
        "# CRIE UM PROGRA,A QUE LEIA O NOME DE UMA PESSOA E DIGA SE ELA TEM \"SILVA\" NO NOME.\n",
        "nome = str(input(\"Qual é o seu nome completo? \")).strip().lower()\n",
        "print(\"Seu nome tem Silva? {}\".format(\"silva\" in nome))"
      ]
    }
  ]
}