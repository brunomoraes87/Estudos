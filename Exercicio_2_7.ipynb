{
  "nbformat": 4,
  "nbformat_minor": 0,
  "metadata": {
    "colab": {
      "provenance": [],
      "authorship_tag": "ABX9TyMdm0DdKD36hYfCK/tnr9hR",
      "include_colab_link": true
    },
    "kernelspec": {
      "name": "python3",
      "display_name": "Python 3"
    },
    "language_info": {
      "name": "python"
    }
  },
  "cells": [
    {
      "cell_type": "markdown",
      "metadata": {
        "id": "view-in-github",
        "colab_type": "text"
      },
      "source": [
        "<a href=\"https://colab.research.google.com/github/brunomoraes87/Estudos/blob/main/Exercicio_2_7.ipynb\" target=\"_parent\"><img src=\"https://colab.research.google.com/assets/colab-badge.svg\" alt=\"Open In Colab\"/></a>"
      ]
    },
    {
      "cell_type": "code",
      "execution_count": 7,
      "metadata": {
        "colab": {
          "base_uri": "https://localhost:8080/"
        },
        "id": "kkizlxrE7xYz",
        "outputId": "fa060365-27a9-44ee-9f2a-6f2edbb7fba2"
      },
      "outputs": [
        {
          "output_type": "stream",
          "name": "stdout",
          "text": [
            "Digite um numero: 1\n",
            "Parabéns, você acertou!\n"
          ]
        }
      ],
      "source": [
        "# ESCREVA UM PROGRAMA QUE FAÇA O COMPUTADOR \"PENSAR\" EM UM NUMERO INTEIRO ENTRE 0 E 5 E PEÇA PARA O USUARIO TENTAR DESCOBRIR QUAL FOI O NUMERO ESCOLHIDO PELO COMPUTADOR\n",
        "# O PROGRAMA DEVERÁ ESCREVER NA TELA SE O USUARIO VENCEU OU PERDEU\n",
        "from random import randint\n",
        "n1 = int(input(\"Digite um numero: \"))\n",
        "n2 = randint(0,5)\n",
        "if n1 == n2:\n",
        "    print(\"Parabéns, você acertou!\")\n",
        "else:\n",
        "    print(\"Você errou, o computador venceu! O numero do computador é {}\".format(n2))"
      ]
    }
  ]
}