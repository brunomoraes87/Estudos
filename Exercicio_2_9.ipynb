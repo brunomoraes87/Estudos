{
  "nbformat": 4,
  "nbformat_minor": 0,
  "metadata": {
    "colab": {
      "provenance": [],
      "authorship_tag": "ABX9TyM4PK+39TrsZmQvPlQR/c03",
      "include_colab_link": true
    },
    "kernelspec": {
      "name": "python3",
      "display_name": "Python 3"
    },
    "language_info": {
      "name": "python"
    }
  },
  "cells": [
    {
      "cell_type": "markdown",
      "metadata": {
        "id": "view-in-github",
        "colab_type": "text"
      },
      "source": [
        "<a href=\"https://colab.research.google.com/github/brunomoraes87/Estudos/blob/main/Exercicio_2_9.ipynb\" target=\"_parent\"><img src=\"https://colab.research.google.com/assets/colab-badge.svg\" alt=\"Open In Colab\"/></a>"
      ]
    },
    {
      "cell_type": "code",
      "execution_count": 1,
      "metadata": {
        "colab": {
          "base_uri": "https://localhost:8080/"
        },
        "id": "Tak8xKcH8k2K",
        "outputId": "8afb3ad8-6312-4e8e-c65a-45becdac64f2"
      },
      "outputs": [
        {
          "output_type": "stream",
          "name": "stdout",
          "text": [
            "Digite um numero: 97\n",
            "97 é ÍMPAR\n"
          ]
        }
      ],
      "source": [
        "# CRIE UM PROGRAMA QUE LEIA UM NÚMERO INTEIRO E MOSTRE NA TELA SE ELE É PAR OU IMPAR\n",
        "n1 = int(input(\"Digite um numero: \"))\n",
        "if (n1 % 2) == 0:\n",
        "    print(\"{} é PAR\".format(n1))\n",
        "else:\n",
        "    print(\"{} é ÍMPAR\".format(n1))"
      ]
    }
  ]
}