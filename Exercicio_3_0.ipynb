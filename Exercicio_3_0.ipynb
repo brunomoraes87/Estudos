{
  "nbformat": 4,
  "nbformat_minor": 0,
  "metadata": {
    "colab": {
      "provenance": [],
      "authorship_tag": "ABX9TyNSC2e+wU70GGlYCMim2+uB",
      "include_colab_link": true
    },
    "kernelspec": {
      "name": "python3",
      "display_name": "Python 3"
    },
    "language_info": {
      "name": "python"
    }
  },
  "cells": [
    {
      "cell_type": "markdown",
      "metadata": {
        "id": "view-in-github",
        "colab_type": "text"
      },
      "source": [
        "<a href=\"https://colab.research.google.com/github/brunomoraes87/Estudos/blob/main/Exercicio_3_0.ipynb\" target=\"_parent\"><img src=\"https://colab.research.google.com/assets/colab-badge.svg\" alt=\"Open In Colab\"/></a>"
      ]
    },
    {
      "cell_type": "code",
      "execution_count": 1,
      "metadata": {
        "colab": {
          "base_uri": "https://localhost:8080/"
        },
        "id": "Ty-XiWEe892j",
        "outputId": "50244f39-000b-47b8-fbaa-63824a7609c7"
      },
      "outputs": [
        {
          "output_type": "stream",
          "name": "stdout",
          "text": [
            "Qual é a distancia da sua viagem? 500\n",
            "Sua viagem terá 500.0Km e a passagem custará R$225.00\n"
          ]
        }
      ],
      "source": [
        "# DESENVOLVA UM PROGRA,A QUE PERGUNTE A DISTANCIA DE UMA VIAGEM EM KM E CALCULO O PREÇO DA PASSAGEM COBRANDO R$0,50 POR KM PARA VIAGENS DE ATÉ 200KM E R$ 0,45 PARA VIAGENS MAIS LONGAS\n",
        "n1 = float(input(\"Qual é a distancia da sua viagem? \"))\n",
        "if n1 <= 200:\n",
        "    preço = n1 * 0.50\n",
        "else:\n",
        "    preço = n1 * 0.45\n",
        "print(\"Sua viagem terá {}Km e a passagem custará R${:.2f}\".format(n1,preço))"
      ]
    }
  ]
}