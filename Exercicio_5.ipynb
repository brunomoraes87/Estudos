{
  "nbformat": 4,
  "nbformat_minor": 0,
  "metadata": {
    "colab": {
      "provenance": [],
      "authorship_tag": "ABX9TyOIvyPJRscPiSASlju9Hel0",
      "include_colab_link": true
    },
    "kernelspec": {
      "name": "python3",
      "display_name": "Python 3"
    },
    "language_info": {
      "name": "python"
    }
  },
  "cells": [
    {
      "cell_type": "markdown",
      "metadata": {
        "id": "view-in-github",
        "colab_type": "text"
      },
      "source": [
        "<a href=\"https://colab.research.google.com/github/brunomoraes87/Estudos/blob/main/Exercicio_5.ipynb\" target=\"_parent\"><img src=\"https://colab.research.google.com/assets/colab-badge.svg\" alt=\"Open In Colab\"/></a>"
      ]
    },
    {
      "cell_type": "code",
      "execution_count": 1,
      "metadata": {
        "colab": {
          "base_uri": "https://localhost:8080/"
        },
        "id": "em9UDUaKfG6s",
        "outputId": "ae3a560e-c571-4d30-fffa-b5a164ff8f80"
      },
      "outputs": [
        {
          "output_type": "stream",
          "name": "stdout",
          "text": [
            "Digite um numero9\n",
            "Seu numero escolhido é 9, aonde seu sucessor é 10 e seu antecessor é 8\n"
          ]
        }
      ],
      "source": [
        "# Faça um programa que leia um número inteiro e mostro seu sucessor e seu antecessor.\n",
        "n1 = int(input(\"Digite um numero\"))\n",
        "print(\"Seu numero escolhido é {}, aonde seu sucessor é {} e seu antecessor é {}\".format(n1, (n1 + 1),(n1 - 1)))"
      ]
    }
  ]
}