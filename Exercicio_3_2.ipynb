{
  "nbformat": 4,
  "nbformat_minor": 0,
  "metadata": {
    "colab": {
      "provenance": [],
      "authorship_tag": "ABX9TyN3bwTyAz15LlhdmH6DkIZ9",
      "include_colab_link": true
    },
    "kernelspec": {
      "name": "python3",
      "display_name": "Python 3"
    },
    "language_info": {
      "name": "python"
    }
  },
  "cells": [
    {
      "cell_type": "markdown",
      "metadata": {
        "id": "view-in-github",
        "colab_type": "text"
      },
      "source": [
        "<a href=\"https://colab.research.google.com/github/brunomoraes87/Estudos/blob/main/Exercicio_3_2.ipynb\" target=\"_parent\"><img src=\"https://colab.research.google.com/assets/colab-badge.svg\" alt=\"Open In Colab\"/></a>"
      ]
    },
    {
      "cell_type": "code",
      "execution_count": 1,
      "metadata": {
        "colab": {
          "base_uri": "https://localhost:8080/"
        },
        "id": "N9xQgjpg9mom",
        "outputId": "cd9b2287-fde2-4dfa-a842-8a26a9929217"
      },
      "outputs": [
        {
          "output_type": "stream",
          "name": "stdout",
          "text": [
            "Primeiro Valor: 7\n",
            "Segundo Valor: 3\n",
            "Terceiro Valor: 12\n",
            "[7, 3, 12]\n",
            "O maior numero digitado foi 12\n",
            "O menor numero digitado foi 3\n"
          ]
        }
      ],
      "source": [
        "# FAÇA UM PROGRAMA QUE LEIA TRÊS NÚMEROS E MOSTRE QUAL É O MAIOR E QUAL É O MENOR.\n",
        "n1 = int(input(\"Primeiro Valor: \"))\n",
        "n2 = int(input(\"Segundo Valor: \"))\n",
        "n3 = int(input(\"Terceiro Valor: \"))\n",
        "lista = [n1,n2,n3]\n",
        "print(lista)\n",
        "print(\"O maior numero digitado foi {}\".format(max(lista)))\n",
        "print(\"O menor numero digitado foi {}\".format(min(lista)))"
      ]
    }
  ]
}