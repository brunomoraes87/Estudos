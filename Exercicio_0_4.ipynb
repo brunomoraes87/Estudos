{
  "nbformat": 4,
  "nbformat_minor": 0,
  "metadata": {
    "colab": {
      "provenance": [],
      "authorship_tag": "ABX9TyMhC66UN8Rzg9ES1NNY4Ops",
      "include_colab_link": true
    },
    "kernelspec": {
      "name": "python3",
      "display_name": "Python 3"
    },
    "language_info": {
      "name": "python"
    }
  },
  "cells": [
    {
      "cell_type": "markdown",
      "metadata": {
        "id": "view-in-github",
        "colab_type": "text"
      },
      "source": [
        "<a href=\"https://colab.research.google.com/github/brunomoraes87/Estudos/blob/main/Exercicio_0_4.ipynb\" target=\"_parent\"><img src=\"https://colab.research.google.com/assets/colab-badge.svg\" alt=\"Open In Colab\"/></a>"
      ]
    },
    {
      "cell_type": "code",
      "execution_count": 1,
      "metadata": {
        "colab": {
          "base_uri": "https://localhost:8080/"
        },
        "id": "G-Jse0MvyXcg",
        "outputId": "6f641c42-99d0-4af9-c093-e11b15df424f"
      },
      "outputs": [
        {
          "output_type": "stream",
          "name": "stdout",
          "text": [
            "Digite Algo.\n",
            "NoneBruno\n",
            "O tipo primitivo é <class 'str'>\n",
            "Só tem espaços? False\n",
            "É um numero? False\n",
            "É alfabético? True\n",
            "É Alfanumerico? True\n",
            "Está em maiusculo? False\n",
            "Está em minusculo? False\n",
            "Está capitalizado? True\n"
          ]
        }
      ],
      "source": [
        "# Faça um programa que leia algo pelo teclado e mostre na tela o seu tipo primitivo e todas as informações possíves sobre ele\n",
        "v1 = input(print('Digite Algo.'))\n",
        "print('O tipo primitivo é {}'.format(type(v1)))\n",
        "print('Só tem espaços? {}'.format(v1.isspace()))\n",
        "print('É um numero? {}'.format(v1.isnumeric()))\n",
        "print('É alfabético? {}'.format(v1.isalpha()))\n",
        "print('É Alfanumerico? {}'.format(v1.isalnum()))\n",
        "print('Está em maiusculo? {}'. format(v1.isupper()))\n",
        "print('Está em minusculo? {}'.format(v1.islower()))\n",
        "print('Está capitalizado? {}'.format(v1.istitle()))"
      ]
    }
  ]
}