{
  "nbformat": 4,
  "nbformat_minor": 0,
  "metadata": {
    "colab": {
      "provenance": [],
      "authorship_tag": "ABX9TyOyMM8BddvJ0vX9ND5IUaSf",
      "include_colab_link": true
    },
    "kernelspec": {
      "name": "python3",
      "display_name": "Python 3"
    },
    "language_info": {
      "name": "python"
    }
  },
  "cells": [
    {
      "cell_type": "markdown",
      "metadata": {
        "id": "view-in-github",
        "colab_type": "text"
      },
      "source": [
        "<a href=\"https://colab.research.google.com/github/brunomoraes87/Estudos/blob/main/Exercicio_4_0.ipynb\" target=\"_parent\"><img src=\"https://colab.research.google.com/assets/colab-badge.svg\" alt=\"Open In Colab\"/></a>"
      ]
    },
    {
      "cell_type": "code",
      "execution_count": 1,
      "metadata": {
        "colab": {
          "base_uri": "https://localhost:8080/"
        },
        "id": "nl7zjjDyCInQ",
        "outputId": "e0f6b605-8277-41b4-ab55-e39e928b74d0"
      },
      "outputs": [
        {
          "output_type": "stream",
          "name": "stdout",
          "text": [
            "Ano de Nascimento: 1987\n",
            "O atleta tem 36 anos\n",
            "Classificação MASTER\n"
          ]
        }
      ],
      "source": [
        "# A CONFEDERAÇÃO NACIONAL DE NATAÇÃO PRECISA DE UM PROGRA,A QUE LEIA O ANO DE NASCIMENTO DE UM ATLETA E MOSTRE SUA CATEGORIA DE ACORDO COM A IDADE:\n",
        "# ATÉ 9 ANOS: MIRIM\n",
        "# ATÉ 14 ANOS: INFANTIL\n",
        "# ATÉ 19 ANOS: JUNIOR\n",
        "# ATÉ 30 ANOS: SENIOR\n",
        "# ACIMA: MASTER\n",
        "\n",
        "from datetime import date\n",
        "\n",
        "ano = int(input('Ano de Nascimento: '))\n",
        "atual = date.today().year\n",
        "idade = atual - ano\n",
        "\n",
        "if idade < 9:\n",
        "    classe = 'MIRIM'\n",
        "elif idade >9 and idade <14:\n",
        "    classe = 'INFANTIL'\n",
        "elif idade >14 and idade < 19:\n",
        "    classe = 'JUNIOR'\n",
        "elif idade > 19 and idade < 30:\n",
        "    classe = 'SENIOR'\n",
        "else:\n",
        "    classe = 'MASTER'\n",
        "\n",
        "print('''O atleta tem {} anos\n",
        "Classificação {}'''.format(idade,classe))"
      ]
    }
  ]
}