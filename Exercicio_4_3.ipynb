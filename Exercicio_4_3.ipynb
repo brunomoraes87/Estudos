{
  "nbformat": 4,
  "nbformat_minor": 0,
  "metadata": {
    "colab": {
      "provenance": [],
      "authorship_tag": "ABX9TyN3JFvhOozTh5ASG5I35JzU",
      "include_colab_link": true
    },
    "kernelspec": {
      "name": "python3",
      "display_name": "Python 3"
    },
    "language_info": {
      "name": "python"
    }
  },
  "cells": [
    {
      "cell_type": "markdown",
      "metadata": {
        "id": "view-in-github",
        "colab_type": "text"
      },
      "source": [
        "<a href=\"https://colab.research.google.com/github/brunomoraes87/Estudos/blob/main/Exercicio_4_3.ipynb\" target=\"_parent\"><img src=\"https://colab.research.google.com/assets/colab-badge.svg\" alt=\"Open In Colab\"/></a>"
      ]
    },
    {
      "cell_type": "code",
      "execution_count": 1,
      "metadata": {
        "colab": {
          "base_uri": "https://localhost:8080/"
        },
        "id": "6QC9CibQDOzc",
        "outputId": "66142ef9-5b6a-428c-e785-29651c89f249"
      },
      "outputs": [
        {
          "output_type": "stream",
          "name": "stdout",
          "text": [
            "=-=-=-=-=-=-=-=-=-=-=-=-=-=-=-=-=-=-=-=-\n",
            "LOJA DO BRUNO\n",
            "=-=-=-=-=-=-=-=-=-=-=-=-=-=-=-=-=-=-=-=-\n",
            "Qual é o valor da compra?\n",
            "R$:  120\n",
            "FORMAS DE PAGAMENTO\n",
            "[ 1 ] à vista dinheiro/cheque\n",
            "[ 2 ] à vista no cartão\n",
            "[ 3 ] 2x no cartão\n",
            "[ 4 ] 3x ou mais no cartão\n",
            "DIGITE A OPÇÃO DESEJADA4\n",
            "Quantas parcelas? 5\n",
            "Sua compra será parcelada em 5x de 28.80 COM JUROS\n",
            "Sua compra de R$120.00 vai custar R$144.00 no final\n"
          ]
        }
      ],
      "source": [
        "# ELABORE UM PROGRAMA QUE CALCULE O VALOR A SER PAGO POR UM PRODUTO CONSIDERANDO O SEU PREÇO NORMAL E CONDIÇÃO DE PAGAMENTO\n",
        "# A VISTA DINHEIRO/CHEQUE: 10% DE DESCONTO\n",
        "# A VISTA NO CARTÃO: 5% DE DESCONTO\n",
        "# EM ATÉ 2X NO CARTÃO: PREÇO NORMAL\n",
        "# 3X OU MAIS NO CARTÃO: 20% DE JUROS\n",
        "\n",
        "print(\"=-\"*20)\n",
        "print(\"LOJA DO BRUNO\")\n",
        "print(\"=-\"*20)\n",
        "\n",
        "v1 = float(input('''Qual é o valor da compra?\n",
        "R$:  '''))\n",
        "\n",
        "condicao = input('''FORMAS DE PAGAMENTO\n",
        "[ 1 ] à vista dinheiro/cheque\n",
        "[ 2 ] à vista no cartão\n",
        "[ 3 ] 2x no cartão\n",
        "[ 4 ] 3x ou mais no cartão\n",
        "DIGITE A OPÇÃO DESEJADA''')\n",
        "\n",
        "if condicao == \"1\":\n",
        "    v2 = v1 - (v1 * 0.1)\n",
        "    print(\"Sua compra de R${:.2f} vai custar R${:.2f} no final\".format(v1, v2))\n",
        "elif condicao == \"2\":\n",
        "    v2 = v1 - (v1 * 0.05)\n",
        "    print(\"Sua compra de R${:.2f} vai custar R${:.2f} no final\".format(v1, v2))\n",
        "elif condicao == \"3\":\n",
        "    v2 = v1\n",
        "    print(\"Sua compra de R${:.2f} vai custar R${:.2f} no final\".format(v1, v2))\n",
        "else:\n",
        "    v2 = v1 + (v1 * 0.2)\n",
        "    par = int(input(\"Quantas parcelas? \"))\n",
        "    v3 = v2 / par\n",
        "    print(\"Sua compra será parcelada em {}x de {:.2f} COM JUROS\".format(par,v3))\n",
        "    print(\"Sua compra de R${:.2f} vai custar R${:.2f} no final\".format(v1,v2))\n",
        "\n"
      ]
    }
  ]
}