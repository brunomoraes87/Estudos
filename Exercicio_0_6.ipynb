{
  "nbformat": 4,
  "nbformat_minor": 0,
  "metadata": {
    "colab": {
      "provenance": [],
      "authorship_tag": "ABX9TyMfoQyTaRqlRMA2EeYPfFT4",
      "include_colab_link": true
    },
    "kernelspec": {
      "name": "python3",
      "display_name": "Python 3"
    },
    "language_info": {
      "name": "python"
    }
  },
  "cells": [
    {
      "cell_type": "markdown",
      "metadata": {
        "id": "view-in-github",
        "colab_type": "text"
      },
      "source": [
        "<a href=\"https://colab.research.google.com/github/brunomoraes87/Estudos/blob/main/Exercicio_0_6.ipynb\" target=\"_parent\"><img src=\"https://colab.research.google.com/assets/colab-badge.svg\" alt=\"Open In Colab\"/></a>"
      ]
    },
    {
      "cell_type": "code",
      "execution_count": 1,
      "metadata": {
        "colab": {
          "base_uri": "https://localhost:8080/"
        },
        "id": "0dodqMVezEJ4",
        "outputId": "0f709e55-7b8c-44a5-ec77-0aff9090a03e"
      },
      "outputs": [
        {
          "output_type": "stream",
          "name": "stdout",
          "text": [
            "Digite um valor27\n",
            "O dobro de 27 é 54\n",
            " O triplo de 27 é 81\n",
            " A raiz quadrada de 27.00 é 5.196152422706632\n"
          ]
        }
      ],
      "source": [
        "# Crie um algoritimo que leia um numero e mostre o seu dobro, triplo e raiz quadrada\n",
        "n1 = int(input('Digite um valor'))\n",
        "d = n1 * 2\n",
        "t = n1 * 3\n",
        "r = n1 ** (1/2)\n",
        "print('O dobro de {} é {}\\n O triplo de {} é {}\\n A raiz quadrada de {:.2f} é {}'.format(n1, d, n1, t, n1, r))"
      ]
    }
  ]
}