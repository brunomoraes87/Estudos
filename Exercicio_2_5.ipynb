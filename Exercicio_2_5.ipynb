{
  "nbformat": 4,
  "nbformat_minor": 0,
  "metadata": {
    "colab": {
      "provenance": [],
      "authorship_tag": "ABX9TyP4YG9fZOA7hvtyfz4j8SXQ",
      "include_colab_link": true
    },
    "kernelspec": {
      "name": "python3",
      "display_name": "Python 3"
    },
    "language_info": {
      "name": "python"
    }
  },
  "cells": [
    {
      "cell_type": "markdown",
      "metadata": {
        "id": "view-in-github",
        "colab_type": "text"
      },
      "source": [
        "<a href=\"https://colab.research.google.com/github/brunomoraes87/Estudos/blob/main/Exercicio_2_5.ipynb\" target=\"_parent\"><img src=\"https://colab.research.google.com/assets/colab-badge.svg\" alt=\"Open In Colab\"/></a>"
      ]
    },
    {
      "cell_type": "code",
      "execution_count": 1,
      "metadata": {
        "colab": {
          "base_uri": "https://localhost:8080/"
        },
        "id": "LAI5GAwN6-2K",
        "outputId": "2e002ac2-f76d-49e9-90f1-f74bad00cf84"
      },
      "outputs": [
        {
          "output_type": "stream",
          "name": "stdout",
          "text": [
            "Digite uma Frase: Bom dia Brasil!\n",
            "A letra A aparece 2 vezes na frase\n",
            "A primeira letra A apareceu na posição 7\n",
            "A ultima letra A aparece na posição 11\n"
          ]
        }
      ],
      "source": [
        "# FAÇA UM PROGRAMA QUE LEIA UMA FRASE PELO TECLADO E MOSTRE:\n",
        "# QUANTAS VEZES APARECE A LETRA \"A\"\n",
        "# EM QUE POSIÇÃO ELA APARECE A PRIMEIRA VEZ\n",
        "# EM QUE POSIÇÃO ELA APARECE A ULTIMA VEZ\n",
        "\n",
        "frase = str(input(\"Digite uma Frase: \")).strip().lower()\n",
        "print(\"A letra A aparece {} vezes na frase\".format(frase.count(\"a\")))\n",
        "print(\"A primeira letra A apareceu na posição {}\".format(frase.find(\"a\") + 1))\n",
        "print(\"A ultima letra A aparece na posição {}\".format(frase.rfind(\"a\") + 1))"
      ]
    }
  ]
}