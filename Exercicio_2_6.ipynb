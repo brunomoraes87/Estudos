{
  "nbformat": 4,
  "nbformat_minor": 0,
  "metadata": {
    "colab": {
      "provenance": [],
      "authorship_tag": "ABX9TyMBpwlh1HjznnZ/FkwPHHEI",
      "include_colab_link": true
    },
    "kernelspec": {
      "name": "python3",
      "display_name": "Python 3"
    },
    "language_info": {
      "name": "python"
    }
  },
  "cells": [
    {
      "cell_type": "markdown",
      "metadata": {
        "id": "view-in-github",
        "colab_type": "text"
      },
      "source": [
        "<a href=\"https://colab.research.google.com/github/brunomoraes87/Estudos/blob/main/Exercicio_2_6.ipynb\" target=\"_parent\"><img src=\"https://colab.research.google.com/assets/colab-badge.svg\" alt=\"Open In Colab\"/></a>"
      ]
    },
    {
      "cell_type": "code",
      "execution_count": 1,
      "metadata": {
        "colab": {
          "base_uri": "https://localhost:8080/"
        },
        "id": "1tvwiVaw7gSk",
        "outputId": "63bb3f86-3aa1-439e-9f47-b89286bdffc9"
      },
      "outputs": [
        {
          "output_type": "stream",
          "name": "stdout",
          "text": [
            "Digite seu nome completo: Bruno Martins de Moraes\n",
            "Muito prazer em te conhecer\n",
            "Seu primeiro nome é Bruno\n",
            "Seu ultimo nome é Moraes\n"
          ]
        }
      ],
      "source": [
        "# FAÇA UM PROGRAMA QUE LEIA O NOME COMPLETO DE UMA PESSOA, MOSTRANDO EM SEGUIDA O PRIMEIRO E O ULTIMO NOME SEPARADAMENTE\n",
        "# EX: ANA MARIA DE SOUZA\n",
        "# PRIMEIRO = ANA\n",
        "# ULTIMO = SOUZA\n",
        "\n",
        "nome = str(input(\"Digite seu nome completo: \")).strip().split()\n",
        "print(\"Muito prazer em te conhecer\")\n",
        "print(\"Seu primeiro nome é {}\".format(nome[0]))\n",
        "print(\"Seu ultimo nome é {}\".format(nome[len(nome)-1]))"
      ]
    }
  ]
}