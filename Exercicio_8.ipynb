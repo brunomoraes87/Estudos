{
  "nbformat": 4,
  "nbformat_minor": 0,
  "metadata": {
    "colab": {
      "provenance": [],
      "authorship_tag": "ABX9TyPA1OA/9CRXzGGijzPru8fI",
      "include_colab_link": true
    },
    "kernelspec": {
      "name": "python3",
      "display_name": "Python 3"
    },
    "language_info": {
      "name": "python"
    }
  },
  "cells": [
    {
      "cell_type": "markdown",
      "metadata": {
        "id": "view-in-github",
        "colab_type": "text"
      },
      "source": [
        "<a href=\"https://colab.research.google.com/github/brunomoraes87/Estudos/blob/main/Exercicio_8.ipynb\" target=\"_parent\"><img src=\"https://colab.research.google.com/assets/colab-badge.svg\" alt=\"Open In Colab\"/></a>"
      ]
    },
    {
      "cell_type": "code",
      "execution_count": 1,
      "metadata": {
        "colab": {
          "base_uri": "https://localhost:8080/"
        },
        "id": "EQ2czrRHgkfV",
        "outputId": "f57e1f8b-93a5-427d-d481-13eedd8fa45c"
      },
      "outputs": [
        {
          "output_type": "stream",
          "name": "stdout",
          "text": [
            "Digite um valor em metro100\n",
            "Baseado no valor informado, temos 10000 centimentros e 100000 Milimetros\n"
          ]
        }
      ],
      "source": [
        "# Escreva um programa que leia um valor em metros e o exiba convertido em centimetros e milimetros\n",
        "m1 = int(input('Digite um valor em metro'))\n",
        "c = m1 * 100\n",
        "m = m1 * 1000\n",
        "print('Baseado no valor informado, temos {} centimentros e {} Milimetros'.format(c, m))"
      ]
    }
  ]
}