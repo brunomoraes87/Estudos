{
  "nbformat": 4,
  "nbformat_minor": 0,
  "metadata": {
    "colab": {
      "provenance": [],
      "authorship_tag": "ABX9TyMZsumYk6hUH9LSN2IIZQSo",
      "include_colab_link": true
    },
    "kernelspec": {
      "name": "python3",
      "display_name": "Python 3"
    },
    "language_info": {
      "name": "python"
    }
  },
  "cells": [
    {
      "cell_type": "markdown",
      "metadata": {
        "id": "view-in-github",
        "colab_type": "text"
      },
      "source": [
        "<a href=\"https://colab.research.google.com/github/brunomoraes87/Estudos/blob/main/Exercicio_4_7.ipynb\" target=\"_parent\"><img src=\"https://colab.research.google.com/assets/colab-badge.svg\" alt=\"Open In Colab\"/></a>"
      ]
    },
    {
      "cell_type": "code",
      "execution_count": 1,
      "metadata": {
        "colab": {
          "base_uri": "https://localhost:8080/"
        },
        "id": "MRwVTv8EFW2P",
        "outputId": "2378d323-efe4-4240-ef77-ac809ca5866e"
      },
      "outputs": [
        {
          "output_type": "stream",
          "name": "stdout",
          "text": [
            "O intervalo possui 83 numeros e a soma deles é 20667\n"
          ]
        }
      ],
      "source": [
        "# FAÇA UM PROGRAMA QUE CALCULE A SOMA ENTRE TODOS OS NUMEROS QUE SÃO IMPARES QUE SÃO MULTIPLOS DE TRÊS E QUE SE ENCONTRAM NO INTERVALO DE 1 ATÉ 500.\n",
        "\n",
        "soma = 0\n",
        "cont = 0\n",
        "for i in range(0,500,3):\n",
        "        if i % 2 > 0:\n",
        "            soma = i + soma\n",
        "            cont = cont + 1\n",
        "print(\"O intervalo possui {} numeros e a soma deles é {}\".format(cont,soma))"
      ]
    }
  ]
}