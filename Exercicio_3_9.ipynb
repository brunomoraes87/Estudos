{
  "nbformat": 4,
  "nbformat_minor": 0,
  "metadata": {
    "colab": {
      "provenance": [],
      "authorship_tag": "ABX9TyOXj7BWT3za1+VbJMkepcrr",
      "include_colab_link": true
    },
    "kernelspec": {
      "name": "python3",
      "display_name": "Python 3"
    },
    "language_info": {
      "name": "python"
    }
  },
  "cells": [
    {
      "cell_type": "markdown",
      "metadata": {
        "id": "view-in-github",
        "colab_type": "text"
      },
      "source": [
        "<a href=\"https://colab.research.google.com/github/brunomoraes87/Estudos/blob/main/Exercicio_3_9.ipynb\" target=\"_parent\"><img src=\"https://colab.research.google.com/assets/colab-badge.svg\" alt=\"Open In Colab\"/></a>"
      ]
    },
    {
      "cell_type": "code",
      "execution_count": 1,
      "metadata": {
        "colab": {
          "base_uri": "https://localhost:8080/"
        },
        "id": "DCjBrVCPBlqF",
        "outputId": "cb220b43-bd2c-429d-f20d-1003294bbe28"
      },
      "outputs": [
        {
          "output_type": "stream",
          "name": "stdout",
          "text": [
            "Digite a primeira nota: 7.5\n",
            "Digite a segunda nota: 8\n",
            "Tirando 7.5 e 8.0, sua média é 7.8. Parabéns, você está APROVADO!\n"
          ]
        }
      ],
      "source": [
        "# CRIE UM PROGRA,A QUE LEIA DUAS NOTAS DE UM ALUNO E CALCULE SUA MÉDIA. MOSTRANDO UMA MENSAGEM NO FINAL DE ACORDO COM A MÉDIA ATINGIDA\n",
        "# MÉDIA ABAIXO DE 5.0: REPROVADO\n",
        "# MÉDIA ENTRE 5.0 E 6.9: RECUPERAÇÃO\n",
        "# MÉDIA 7.0 OU SUPERIOR: APROVADO\n",
        "\n",
        "n1 = float(input('Digite a primeira nota: '))\n",
        "n2 = float(input('Digite a segunda nota: '))\n",
        "media = float((n1 + n2) / 2)\n",
        "\n",
        "if media >= 7.0:\n",
        "    print('Tirando {:.1f} e {:.1f}, sua média é {:.1f}. Parabéns, você está APROVADO!'.format(n1,n2, media))\n",
        "elif media >= 5.0 and media < 6.9:\n",
        "    print(\"Tirando {:.1f} e {:.1f}, sua média é {:.1f}. Você precisa se esforçar mais, você está de RECUPERAÇÂO.\".format(n1,n2,media))\n",
        "elif media < 5.0:\n",
        "    print('Tirando {:.1f} e {:.1f}, sua média é {:.1f}. você está REPROVADO!'.format(n1,n2,media))"
      ]
    }
  ]
}