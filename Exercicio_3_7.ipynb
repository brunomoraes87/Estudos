{
  "nbformat": 4,
  "nbformat_minor": 0,
  "metadata": {
    "colab": {
      "provenance": [],
      "authorship_tag": "ABX9TyPyhWjK9siAwQe8P3ZTpO+o",
      "include_colab_link": true
    },
    "kernelspec": {
      "name": "python3",
      "display_name": "Python 3"
    },
    "language_info": {
      "name": "python"
    }
  },
  "cells": [
    {
      "cell_type": "markdown",
      "metadata": {
        "id": "view-in-github",
        "colab_type": "text"
      },
      "source": [
        "<a href=\"https://colab.research.google.com/github/brunomoraes87/Estudos/blob/main/Exercicio_3_7.ipynb\" target=\"_parent\"><img src=\"https://colab.research.google.com/assets/colab-badge.svg\" alt=\"Open In Colab\"/></a>"
      ]
    },
    {
      "cell_type": "code",
      "execution_count": 1,
      "metadata": {
        "colab": {
          "base_uri": "https://localhost:8080/"
        },
        "id": "UVhduPcuAvgH",
        "outputId": "1f7f9592-b6b8-4281-cffe-0b2cc1c94596"
      },
      "outputs": [
        {
          "output_type": "stream",
          "name": "stdout",
          "text": [
            "Digite um numero: 90\n",
            "Digite outro numero: 42\n",
            "O PRIMEIRO valor é o Maior\n"
          ]
        }
      ],
      "source": [
        "#  ESCREVA UM PROGRAMA QUE LEIA DOIS NUMEROS INTEIROS E COMPARE-OS, MOSTRANDO NA TELA UMA MENSAGEM:\n",
        "# O PRIMEIRO VALOR É MAIOR\n",
        "# O SEGUNDO VALOR É MAIOR\n",
        "# NÃO EXISTE VALOR MAIOR. OS DOIS SÃO IGUAIS\n",
        "\n",
        "v1 = int(input(\"Digite um numero: \"))\n",
        "v2 = int(input(\"Digite outro numero: \"))\n",
        "\n",
        "if v1 > v2:\n",
        "    print(\"O PRIMEIRO valor é o Maior\")\n",
        "elif v2 > v1:\n",
        "    print(\"O SEGUNDO valor é o Maior\")\n",
        "else:\n",
        "    print(\"Os valores são iguais\")"
      ]
    }
  ]
}