{
  "nbformat": 4,
  "nbformat_minor": 0,
  "metadata": {
    "colab": {
      "provenance": [],
      "authorship_tag": "ABX9TyOgahVIKMRbI2sKSEv3WatB",
      "include_colab_link": true
    },
    "kernelspec": {
      "name": "python3",
      "display_name": "Python 3"
    },
    "language_info": {
      "name": "python"
    }
  },
  "cells": [
    {
      "cell_type": "markdown",
      "metadata": {
        "id": "view-in-github",
        "colab_type": "text"
      },
      "source": [
        "<a href=\"https://colab.research.google.com/github/brunomoraes87/Estudos/blob/main/Exercicio_4_9.ipynb\" target=\"_parent\"><img src=\"https://colab.research.google.com/assets/colab-badge.svg\" alt=\"Open In Colab\"/></a>"
      ]
    },
    {
      "cell_type": "code",
      "execution_count": 1,
      "metadata": {
        "colab": {
          "base_uri": "https://localhost:8080/"
        },
        "id": "SZfTcn4xGezf",
        "outputId": "dc2d6d89-633c-4ca3-dfcb-6fb86c6f1620"
      },
      "outputs": [
        {
          "output_type": "stream",
          "name": "stdout",
          "text": [
            "Digite um numero: 995\n",
            "Digite um numero: 445\n",
            "Digite um numero: 114\n",
            "Digite um numero: 112\n",
            "Digite um numero: 100\n",
            "Digite um numero: 582\n",
            "A sequencia possui 4 numeros PARES e a soma deles é 908\n"
          ]
        }
      ],
      "source": [
        "# DESENVOLVA UM PROGRAMA QUE LEIA SEIS NUMEROS INTEIROS E MOSTRE A SOMA APENAS DAQUELAS QUE FOREM PARES. SE O VALOR DIGITADO FOR IMPAR, DESCONSIDERE-O.\n",
        "\n",
        "soma = 0\n",
        "cont = 0\n",
        "\n",
        "for i in range(1,7):\n",
        "    n1 = int(input(\"Digite um numero: \"))\n",
        "    if n1 % 2 == 0:\n",
        "        soma = soma + n1\n",
        "        cont = cont + 1\n",
        "print(\"A sequencia possui {} numeros PARES e a soma deles é {}\".format(cont,soma))"
      ]
    }
  ]
}