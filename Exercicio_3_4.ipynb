{
  "nbformat": 4,
  "nbformat_minor": 0,
  "metadata": {
    "colab": {
      "provenance": [],
      "authorship_tag": "ABX9TyMbd+i3HSROMtfkKNu2EYtd",
      "include_colab_link": true
    },
    "kernelspec": {
      "name": "python3",
      "display_name": "Python 3"
    },
    "language_info": {
      "name": "python"
    }
  },
  "cells": [
    {
      "cell_type": "markdown",
      "metadata": {
        "id": "view-in-github",
        "colab_type": "text"
      },
      "source": [
        "<a href=\"https://colab.research.google.com/github/brunomoraes87/Estudos/blob/main/Exercicio_3_4.ipynb\" target=\"_parent\"><img src=\"https://colab.research.google.com/assets/colab-badge.svg\" alt=\"Open In Colab\"/></a>"
      ]
    },
    {
      "cell_type": "code",
      "execution_count": 6,
      "metadata": {
        "colab": {
          "base_uri": "https://localhost:8080/"
        },
        "id": "A_V60Ys4-PYq",
        "outputId": "9c43b65d-045c-4f6d-ef02-86d3aafc53cb"
      },
      "outputs": [
        {
          "output_type": "stream",
          "name": "stdout",
          "text": [
            "-=-=-=-=-=-=-=-=-=-=-=-=-=-=-=-=-=-=-=-=\n",
            "Analisador de Triângulos\n",
            "-=-=-=-=-=-=-=-=-=-=-=-=-=-=-=-=-=-=-=-=\n",
            "Primeiro segmento: 2\n",
            "Segundo segmento: 3\n",
            "Terceiro segmento: 4\n",
            "Os segmentos acima PODEM FORMAR triangulo\n"
          ]
        }
      ],
      "source": [
        "# DESENVOLA UM PROGRAMA QUE LEIA O COMPRIMENTO DE TRÊS RETAS E DIGA AO USUARIO SE ELAS PODEM OU NÃO FORMA UM TRIANGULO\n",
        "print(\"-=\" * 20)\n",
        "print(\"Analisador de Triângulos\")\n",
        "print(\"-=\" * 20)\n",
        "s1 = float(input(\"Primeiro segmento: \"))\n",
        "s2 = float(input(\"Segundo segmento: \"))\n",
        "s3 = float(input(\"Terceiro segmento: \"))\n",
        "if s1 < s2 + s3 and s2 < s1 + s3 and s3 < s1 + s2:\n",
        "    print(\"Os segmentos acima PODEM FORMAR triangulo\")\n",
        "else:\n",
        "    print(\"Os segmentos acima NÃO PODEM FORMAR um triangulo\")"
      ]
    }
  ]
}