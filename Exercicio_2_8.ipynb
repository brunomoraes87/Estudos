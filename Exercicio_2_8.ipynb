{
  "nbformat": 4,
  "nbformat_minor": 0,
  "metadata": {
    "colab": {
      "provenance": [],
      "authorship_tag": "ABX9TyM+C88m5MdkYRq/M3GxSCO3",
      "include_colab_link": true
    },
    "kernelspec": {
      "name": "python3",
      "display_name": "Python 3"
    },
    "language_info": {
      "name": "python"
    }
  },
  "cells": [
    {
      "cell_type": "markdown",
      "metadata": {
        "id": "view-in-github",
        "colab_type": "text"
      },
      "source": [
        "<a href=\"https://colab.research.google.com/github/brunomoraes87/Estudos/blob/main/Exercicio_2_8.ipynb\" target=\"_parent\"><img src=\"https://colab.research.google.com/assets/colab-badge.svg\" alt=\"Open In Colab\"/></a>"
      ]
    },
    {
      "cell_type": "code",
      "execution_count": 1,
      "metadata": {
        "colab": {
          "base_uri": "https://localhost:8080/"
        },
        "id": "GxHB_s-V8NYT",
        "outputId": "8a28064b-df54-45d4-cbd8-1b63b883e482"
      },
      "outputs": [
        {
          "output_type": "stream",
          "name": "stdout",
          "text": [
            "Qual é a velocidade atual do carro? 90\n",
            "Multado! Você excedeu o limite permitido que é de 80Km/h\n",
            "Você deve pagar uma multa de R$70.00\n"
          ]
        }
      ],
      "source": [
        "# ESCREVA UM PROGRAMA QUE LEIA A VELOCIDADE DE UM CARRO.\n",
        "# SE ELE ULTRAPASSAR 80KM/H MOSTRE UM MENSAGEM DIZENDO QUE ELE FOI MULTADO\n",
        "# A MULTA VAI CUSTAR R$ 7,00 POR CADA KM ACIMA DO LIMITE\n",
        "\n",
        "v1 = int(input(\"Qual é a velocidade atual do carro? \"))\n",
        "if v1 > 80:\n",
        "    print(\"Multado! Você excedeu o limite permitido que é de 80Km/h\\nVocê deve pagar uma multa de R${:.2f}\".format((v1 - 80) * 7))\n",
        "else:\n",
        "    print(\"Boa viagem!\")"
      ]
    }
  ]
}