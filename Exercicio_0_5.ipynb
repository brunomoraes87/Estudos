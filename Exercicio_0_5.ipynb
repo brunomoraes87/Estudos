{
  "nbformat": 4,
  "nbformat_minor": 0,
  "metadata": {
    "colab": {
      "provenance": [],
      "authorship_tag": "ABX9TyOIvyPJRscPiSASlju9Hel0",
      "include_colab_link": true
    },
    "kernelspec": {
      "name": "python3",
      "display_name": "Python 3"
    },
    "language_info": {
      "name": "python"
    }
  },
  "cells": [
    {
      "cell_type": "markdown",
      "metadata": {
        "id": "view-in-github",
        "colab_type": "text"
      },
      "source": [
        "<a href=\"https://colab.research.google.com/github/brunomoraes87/Estudos/blob/main/Exercicio_0_5.ipynb\" target=\"_parent\"><img src=\"https://colab.research.google.com/assets/colab-badge.svg\" alt=\"Open In Colab\"/></a>"
      ]
    },
    {
      "cell_type": "code",
      "execution_count": 1,
      "metadata": {
        "colab": {
          "base_uri": "https://localhost:8080/"
        },
        "id": "n0VBcQQgywkI",
        "outputId": "90198c35-9433-4a65-8fe5-e2c83e36b254"
      },
      "outputs": [
        {
          "output_type": "stream",
          "name": "stdout",
          "text": [
            "Digite um numero12\n",
            "Seu numero escolhido é 12, aonde seu sucessor é 13 e seu antecessor é 11\n"
          ]
        }
      ],
      "source": [
        "# Faça um programa que leia um número inteiro e mostro seu sucessor e seu antecessor.\n",
        "n1 = int(input(\"Digite um numero\"))\n",
        "print(\"Seu numero escolhido é {}, aonde seu sucessor é {} e seu antecessor é {}\".format(n1, (n1 + 1),(n1 - 1)))"
      ]
    }
  ]
}