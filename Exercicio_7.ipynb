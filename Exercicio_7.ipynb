{
  "nbformat": 4,
  "nbformat_minor": 0,
  "metadata": {
    "colab": {
      "provenance": [],
      "authorship_tag": "ABX9TyPCZTtENmv0WbvVjwf7Ra2a",
      "include_colab_link": true
    },
    "kernelspec": {
      "name": "python3",
      "display_name": "Python 3"
    },
    "language_info": {
      "name": "python"
    }
  },
  "cells": [
    {
      "cell_type": "markdown",
      "metadata": {
        "id": "view-in-github",
        "colab_type": "text"
      },
      "source": [
        "<a href=\"https://colab.research.google.com/github/brunomoraes87/Estudos/blob/main/Exercicio_7.ipynb\" target=\"_parent\"><img src=\"https://colab.research.google.com/assets/colab-badge.svg\" alt=\"Open In Colab\"/></a>"
      ]
    },
    {
      "cell_type": "code",
      "execution_count": 1,
      "metadata": {
        "colab": {
          "base_uri": "https://localhost:8080/"
        },
        "id": "q5BydBoGgO4z",
        "outputId": "fa596e31-f563-43d2-a84a-357818bcf429"
      },
      "outputs": [
        {
          "output_type": "stream",
          "name": "stdout",
          "text": [
            "Digite a nota da sua primeira prova7\n",
            "Digite a nota da segunda prova9\n",
            "A média entre 7.0 e 9.0 é igual 8.0\n"
          ]
        }
      ],
      "source": [
        "# Desenvolva um programa que leia as duas notas de um aluno, calculo e mostre a sua média\n",
        "p1 = float(input('Digite a nota da sua primeira prova'))\n",
        "p2 = float(input('Digite a nota da segunda prova'))\n",
        "m = (p1 + p2)/2\n",
        "print('A média entre {:.1f} e {:.1f} é igual {:.1f}'.format(p1, p2, m))"
      ]
    }
  ]
}