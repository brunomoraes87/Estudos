{
  "nbformat": 4,
  "nbformat_minor": 0,
  "metadata": {
    "colab": {
      "provenance": [],
      "authorship_tag": "ABX9TyO0oLvMznR8EUTTfGcuv4ct",
      "include_colab_link": true
    },
    "kernelspec": {
      "name": "python3",
      "display_name": "Python 3"
    },
    "language_info": {
      "name": "python"
    }
  },
  "cells": [
    {
      "cell_type": "markdown",
      "metadata": {
        "id": "view-in-github",
        "colab_type": "text"
      },
      "source": [
        "<a href=\"https://colab.research.google.com/github/brunomoraes87/Estudos/blob/main/Exercicio_2_1.ipynb\" target=\"_parent\"><img src=\"https://colab.research.google.com/assets/colab-badge.svg\" alt=\"Open In Colab\"/></a>"
      ]
    },
    {
      "cell_type": "code",
      "execution_count": 3,
      "metadata": {
        "colab": {
          "base_uri": "https://localhost:8080/"
        },
        "id": "0qlg62PM5HF6",
        "outputId": "7749ea03-f301-4b78-d81a-d8b9c0a6de0e"
      },
      "outputs": [
        {
          "output_type": "stream",
          "name": "stdout",
          "text": [
            "Digite seu nome: Bruno\n",
            "Seu nome em maiúsculas é BRUNO\n",
            "Seu nome em letra minúscula é bruno\n",
            "seu nome tem ao todo 5 letras\n",
            "Seu primeiro nome é Bruno e ele tem 5 letras\n"
          ]
        }
      ],
      "source": [
        "# CRIE UM PROGRAMA QUE LEIA O NOME COMPLETO DE UMA PESSOA E MOSTRE:\n",
        "# O NOME COM TODAS AS LETRAS MAIUSCULAS\n",
        "# O NOME COM TODAS AS LETRAS MINUSCULAS\n",
        "# QUANTAS LETRAS AO TODO (SEM CONSIDERAR ESPAÇOS)\n",
        "# QUANTAS LETRAS TEM O PRIMEIRO NOME\n",
        "\n",
        "nome = str(input(\"Digite seu nome: \")).strip()\n",
        "print(\"Seu nome em maiúsculas é {}\".format(nome.upper()))\n",
        "print(\"Seu nome em letra minúscula é {}\".format(nome.lower()))\n",
        "print(\"seu nome tem ao todo {} letras\".format(len(nome) - nome.count(\" \")))\n",
        "p = nome.split()\n",
        "print(\"Seu primeiro nome é {} e ele tem {} letras\".format(p[0],len(p[0])))"
      ]
    }
  ]
}