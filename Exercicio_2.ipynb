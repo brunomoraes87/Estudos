{
  "nbformat": 4,
  "nbformat_minor": 0,
  "metadata": {
    "colab": {
      "provenance": [],
      "authorship_tag": "ABX9TyMOTwpXKVzjfBdAt7iNedYf",
      "include_colab_link": true
    },
    "kernelspec": {
      "name": "python3",
      "display_name": "Python 3"
    },
    "language_info": {
      "name": "python"
    }
  },
  "cells": [
    {
      "cell_type": "markdown",
      "metadata": {
        "id": "view-in-github",
        "colab_type": "text"
      },
      "source": [
        "<a href=\"https://colab.research.google.com/github/brunomoraes87/Estudos/blob/main/Exercicio_2.ipynb\" target=\"_parent\"><img src=\"https://colab.research.google.com/assets/colab-badge.svg\" alt=\"Open In Colab\"/></a>"
      ]
    },
    {
      "cell_type": "code",
      "execution_count": 1,
      "metadata": {
        "colab": {
          "base_uri": "https://localhost:8080/"
        },
        "id": "pqUBZIsxdRFh",
        "outputId": "cee64500-aca4-4927-aca2-ae3d8ea8e724"
      },
      "outputs": [
        {
          "output_type": "stream",
          "name": "stdout",
          "text": [
            "Qual é o seu nome?Bruno\n",
            "É um prazer te conhecer \u001b[1;35;40mBruno\u001b[m!\n"
          ]
        }
      ],
      "source": [
        "# Faça um programa que leia o nome de uma pessoa e de uma mensagem de boas vindas\n",
        "nome = input(\"Qual é o seu nome?\")\n",
        "cor = {\"limpa\":\"\\033[m\",\n",
        "       \"roxo\":\"\\033[1;35;40m\"}\n",
        "print(\"É um prazer te conhecer {}{}{}!\".format(cor[\"roxo\"],nome,cor[\"limpa\"]))"
      ]
    }
  ]
}