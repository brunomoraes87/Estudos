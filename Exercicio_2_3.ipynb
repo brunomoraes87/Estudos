{
  "nbformat": 4,
  "nbformat_minor": 0,
  "metadata": {
    "colab": {
      "provenance": [],
      "authorship_tag": "ABX9TyNyg4ExVztUD9Ur2/a5cEcM",
      "include_colab_link": true
    },
    "kernelspec": {
      "name": "python3",
      "display_name": "Python 3"
    },
    "language_info": {
      "name": "python"
    }
  },
  "cells": [
    {
      "cell_type": "markdown",
      "metadata": {
        "id": "view-in-github",
        "colab_type": "text"
      },
      "source": [
        "<a href=\"https://colab.research.google.com/github/brunomoraes87/Estudos/blob/main/Exercicio_2_3.ipynb\" target=\"_parent\"><img src=\"https://colab.research.google.com/assets/colab-badge.svg\" alt=\"Open In Colab\"/></a>"
      ]
    },
    {
      "cell_type": "code",
      "execution_count": 3,
      "metadata": {
        "colab": {
          "base_uri": "https://localhost:8080/"
        },
        "id": "5Gey8wfo6Lje",
        "outputId": "975b9a7e-a3ad-4076-f897-f48c716b8e6b"
      },
      "outputs": [
        {
          "output_type": "stream",
          "name": "stdout",
          "text": [
            "Em qual cidade você nasceu?Santo André\n",
            "True\n"
          ]
        }
      ],
      "source": [
        "# CRIE UM PROGRAMA QUE LEIA O NOME DE UMA CIDADE E SE ELA COMEÇA OU NÃO COM O NOME \"SANTO\".\n",
        "cidade = str(input(\"Em qual cidade você nasceu?\")).strip().lower()\n",
        "c = cidade.split()\n",
        "print(\"santo\" in c[0])"
      ]
    }
  ]
}