{
  "nbformat": 4,
  "nbformat_minor": 0,
  "metadata": {
    "colab": {
      "provenance": [],
      "authorship_tag": "ABX9TyPL+LUzKtdqfMF0SNOu+oW2",
      "include_colab_link": true
    },
    "kernelspec": {
      "name": "python3",
      "display_name": "Python 3"
    },
    "language_info": {
      "name": "python"
    }
  },
  "cells": [
    {
      "cell_type": "markdown",
      "metadata": {
        "id": "view-in-github",
        "colab_type": "text"
      },
      "source": [
        "<a href=\"https://colab.research.google.com/github/brunomoraes87/Estudos/blob/main/Exercicio_3_6.ipynb\" target=\"_parent\"><img src=\"https://colab.research.google.com/assets/colab-badge.svg\" alt=\"Open In Colab\"/></a>"
      ]
    },
    {
      "cell_type": "code",
      "execution_count": 3,
      "metadata": {
        "colab": {
          "base_uri": "https://localhost:8080/"
        },
        "id": "vgc8xTA4AWEH",
        "outputId": "fdcb522a-69e0-4e69-8f1e-078529738585"
      },
      "outputs": [
        {
          "output_type": "stream",
          "name": "stdout",
          "text": [
            "Digite um numero: 999\n",
            "Escolha uma opção para conversão:\n",
            "[1] - Para BINARIO\n",
            "[2] - Para OCTAL\n",
            "[3] - Para HEXADECIMAL\n",
            "Sua Opção é: 3\n",
            "999 convertido em Hexadecimal é 3e7\n"
          ]
        }
      ],
      "source": [
        "# ESCREVA UM PROGRAMA QUE LEIA UM NUMERO INTEIRO QUALQUER E PEÇA PARA O USUARIO ESCOLHER QUAL SERÁ A BASE DE CONVERSÃO\n",
        "# 1 PARA BINARIO\n",
        "# 2 PARA OCTAL\n",
        "# 3 PARA HEXADECIMAL\n",
        "\n",
        "v1 = int(input(\"Digite um numero: \"))\n",
        "print('''Escolha uma opção para conversão:\n",
        "[1] - Para BINARIO\n",
        "[2] - Para OCTAL\n",
        "[3] - Para HEXADECIMAL''')\n",
        "c1 = int(input(\"Sua Opção é: \"))\n",
        "if c1 == 1:\n",
        "    print('{} convertido em binario é {}'.format(v1,bin(v1)[2:]))\n",
        "elif c1 == 2:\n",
        "    print('{} convertido em octal é {}'.format(v1,oct(v1)[2:]))\n",
        "elif c1 == 3:\n",
        "    print('{} convertido em Hexadecimal é {}'.format(v1,hex(v1)[2:]))\n",
        "else:\n",
        "    print('Opção invalida')\n",
        "\n"
      ]
    }
  ]
}