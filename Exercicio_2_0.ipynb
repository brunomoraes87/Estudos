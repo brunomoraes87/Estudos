{
  "nbformat": 4,
  "nbformat_minor": 0,
  "metadata": {
    "colab": {
      "provenance": [],
      "authorship_tag": "ABX9TyNhydzuH9pLdwfJ0AqxpL9z",
      "include_colab_link": true
    },
    "kernelspec": {
      "name": "python3",
      "display_name": "Python 3"
    },
    "language_info": {
      "name": "python"
    }
  },
  "cells": [
    {
      "cell_type": "markdown",
      "metadata": {
        "id": "view-in-github",
        "colab_type": "text"
      },
      "source": [
        "<a href=\"https://colab.research.google.com/github/brunomoraes87/Estudos/blob/main/Exercicio_2_0.ipynb\" target=\"_parent\"><img src=\"https://colab.research.google.com/assets/colab-badge.svg\" alt=\"Open In Colab\"/></a>"
      ]
    },
    {
      "cell_type": "code",
      "execution_count": 1,
      "metadata": {
        "colab": {
          "base_uri": "https://localhost:8080/"
        },
        "id": "dY-zviIJ4rk3",
        "outputId": "4ea1dc91-1aab-46a6-cfb5-ea6c9b8e07a5"
      },
      "outputs": [
        {
          "output_type": "stream",
          "name": "stdout",
          "text": [
            "Primeiro Aluno: Bruno\n",
            "Segundo Aluno: Thaís\n",
            "Terceiro Aluno: Beatriz\n",
            "Quarto Aluno: Bento\n",
            "A de apresentação será \n",
            "['Thaís', 'Beatriz', 'Bruno', 'Bento']\n"
          ]
        }
      ],
      "source": [
        "# O MESMO PROFESSOR DO DESAFIO ANTERIOR QUER SORTEAR A ORDEM DE APRESENTAÇÃO DE TRABALHOS DOS ALUNOS. FALA UM PROGRAMA QUE LEIA O NOME DOS QUATROS ALUNOS E MOSTRE A ORDEM SORTEADA\n",
        "\n",
        "from random import shuffle\n",
        "\n",
        "a1 = input(\"Primeiro Aluno: \")\n",
        "a2 = input(\"Segundo Aluno: \")\n",
        "a3 = input(\"Terceiro Aluno: \")\n",
        "a4 = input(\"Quarto Aluno: \")\n",
        "\n",
        "lista = [a1, a2, a3, a4]\n",
        "shuffle(lista)\n",
        "\n",
        "print(\"A de apresentação será \")\n",
        "print(lista)"
      ]
    }
  ]
}