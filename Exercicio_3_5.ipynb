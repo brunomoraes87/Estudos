{
  "nbformat": 4,
  "nbformat_minor": 0,
  "metadata": {
    "colab": {
      "provenance": [],
      "authorship_tag": "ABX9TyPSsx9V4kqbglpoWdpyJq4F",
      "include_colab_link": true
    },
    "kernelspec": {
      "name": "python3",
      "display_name": "Python 3"
    },
    "language_info": {
      "name": "python"
    }
  },
  "cells": [
    {
      "cell_type": "markdown",
      "metadata": {
        "id": "view-in-github",
        "colab_type": "text"
      },
      "source": [
        "<a href=\"https://colab.research.google.com/github/brunomoraes87/Estudos/blob/main/Exercicio_3_5.ipynb\" target=\"_parent\"><img src=\"https://colab.research.google.com/assets/colab-badge.svg\" alt=\"Open In Colab\"/></a>"
      ]
    },
    {
      "cell_type": "code",
      "execution_count": 5,
      "metadata": {
        "colab": {
          "base_uri": "https://localhost:8080/"
        },
        "id": "vdUo_RWp_Kpp",
        "outputId": "28ed02e5-3449-4e46-ed82-4f2a2a012269"
      },
      "outputs": [
        {
          "output_type": "stream",
          "name": "stdout",
          "text": [
            "=-=-=-=-=-=-=-=-=-=-=-=-=-=-=-=-=-=-=-=-\n",
            "BEM VINDO AO SEU SIMULADOR DE FINANCIMENTO!\n",
            "=-=-=-=-=-=-=-=-=-=-=-=-=-=-=-=-=-=-=-=-\n",
            "Qual é o valor da casa? R$ 500000\n",
            "Qual é o valor do seu sálario? R$ 9000\n",
            "Você quer financiar o imovel em quanto tempo? 24\n",
            "=-=-=-=-=-=-=-=-=-=-\n",
            "CALCULANDO\n",
            "=-=-=-=-=-=-=-=-=-=-\n",
            "Parabéns, seu emprestimo foi \u001b[1;30;42mAPROVADO\u001b[m \n",
            "Para pagar uma casa de 500000.00 em 24 anos a prestação será de R$ 2700.00\n"
          ]
        }
      ],
      "source": [
        "# ESCREVA UM PROGRAMA PARA APROVAR O EMPRESTIMO BANCARIO PARA A COMPRA DE UMA CASA. O PROGRAMA VAI PERGUNTAR O VALOR DA CASA, O SALARIO DO COMPRADOR E EM QUANTOS ANOS ELE VAI PAGAR.\n",
        "# CALCULO E O VALOR DA PRESTAÇÃO MENSAL, SABENDO QUE ELE NÃO PODE EXCEDER 30% DO SALARIO OU ENTÃO O EMPRESTIMO SERÁ NEGADO.\n",
        "from time import sleep\n",
        "import math\n",
        "\n",
        "print(\"=-\"*20)\n",
        "print(\"BEM VINDO AO SEU SIMULADOR DE FINANCIMENTO!\")\n",
        "print(\"=-\"*20)\n",
        "\n",
        "v1 = float(input(\"Qual é o valor da casa? R$ \"))\n",
        "s1 = float(input(\"Qual é o valor do seu sálario? R$ \"))\n",
        "t1 = int(input(\"Você quer financiar o imovel em quanto tempo? \"))\n",
        "\n",
        "print(\"=-\"*10)\n",
        "print(\"CALCULANDO\")\n",
        "print(\"=-\"*10)\n",
        "sleep(4)\n",
        "\n",
        "t2 = int(t1 * 12)\n",
        "p1 = float(s1 * 0.3)\n",
        "p2 = float(v1 / t2)\n",
        "p3 = int(math.ceil(v1 / p1 / 12))\n",
        "\n",
        "cor = {\"verde\" : \"\\033[1;30;42m\",\n",
        "       \"vermelho\" : \"\\033[1;30;41m\",\n",
        "       \"limpa\" : \"\\033[m\"}\n",
        "\n",
        "ap = str(\"APROVADO\")\n",
        "ng = str(\"NEGADO\")\n",
        "\n",
        "if p1 >= p2:\n",
        "\n",
        "    print(\"Parabéns, seu emprestimo foi {}{}{} \".format(cor[\"verde\"],ap,cor[\"limpa\"]))\n",
        "    print(\"Para pagar uma casa de {:.2f} em {} anos a prestação será de R$ {:.2f}\".format(v1,t1,p1))\n",
        "else:\n",
        "\n",
        "    print(\"Infelizmente não podemos liberar o seu financiamento em {} anos, seu emprestimo foi {}{}{}!\".format(t1,cor[\"vermelho\"],ng,cor[\"limpa\"]))\n",
        "    print(\"Para seu financiamento ser liberado é necessario aumentar a quantidade de anos para {} \".format(p3))"
      ]
    }
  ]
}