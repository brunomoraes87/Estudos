{
  "nbformat": 4,
  "nbformat_minor": 0,
  "metadata": {
    "colab": {
      "provenance": [],
      "authorship_tag": "ABX9TyNCPVjb/L/UsCTyhbEmszEk",
      "include_colab_link": true
    },
    "kernelspec": {
      "name": "python3",
      "display_name": "Python 3"
    },
    "language_info": {
      "name": "python"
    }
  },
  "cells": [
    {
      "cell_type": "markdown",
      "metadata": {
        "id": "view-in-github",
        "colab_type": "text"
      },
      "source": [
        "<a href=\"https://colab.research.google.com/github/brunomoraes87/Estudos/blob/main/Exercicio_1_3.ipynb\" target=\"_parent\"><img src=\"https://colab.research.google.com/assets/colab-badge.svg\" alt=\"Open In Colab\"/></a>"
      ]
    },
    {
      "cell_type": "code",
      "execution_count": 1,
      "metadata": {
        "colab": {
          "base_uri": "https://localhost:8080/"
        },
        "id": "d_9eMRNo1ZTj",
        "outputId": "14f8b469-477b-402f-f140-a9710f8ac73e"
      },
      "outputs": [
        {
          "output_type": "stream",
          "name": "stdout",
          "text": [
            "Qual é o seu salario?20000\n",
            "Parabens! Seu novo salario é R$ 23000.00\n"
          ]
        }
      ],
      "source": [
        "# Faça um algoritimo que leia o salario de um funcionario e mostre seu novo salario com 15% de aumento\n",
        "s1 = float(input('Qual é o seu salario?'))\n",
        "n1 = s1 * 1.15\n",
        "print('Parabens! Seu novo salario é R$ {:.2F}'.format(n1))"
      ]
    }
  ]
}