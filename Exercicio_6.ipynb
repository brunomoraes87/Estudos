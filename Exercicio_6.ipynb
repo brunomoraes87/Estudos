{
  "nbformat": 4,
  "nbformat_minor": 0,
  "metadata": {
    "colab": {
      "provenance": [],
      "authorship_tag": "ABX9TyMfoQyTaRqlRMA2EeYPfFT4",
      "include_colab_link": true
    },
    "kernelspec": {
      "name": "python3",
      "display_name": "Python 3"
    },
    "language_info": {
      "name": "python"
    }
  },
  "cells": [
    {
      "cell_type": "markdown",
      "metadata": {
        "id": "view-in-github",
        "colab_type": "text"
      },
      "source": [
        "<a href=\"https://colab.research.google.com/github/brunomoraes87/Estudos/blob/main/Exercicio_6.ipynb\" target=\"_parent\"><img src=\"https://colab.research.google.com/assets/colab-badge.svg\" alt=\"Open In Colab\"/></a>"
      ]
    },
    {
      "cell_type": "code",
      "execution_count": 2,
      "metadata": {
        "colab": {
          "base_uri": "https://localhost:8080/"
        },
        "id": "70WMFKPrfdI3",
        "outputId": "05a4b39a-f83f-4f66-88ae-4a037573a23d"
      },
      "outputs": [
        {
          "output_type": "stream",
          "name": "stdout",
          "text": [
            "Digite um valor100\n",
            "O dobro de 100 é 200\n",
            " O triplo de 100 é 300\n",
            " A raiz quadrada de 100.00 é 10.0\n"
          ]
        }
      ],
      "source": [
        "# Crie um algoritimo que leia um numero e mostre o seu dobro, triplo e raiz quadrada\n",
        "n1 = int(input('Digite um valor'))\n",
        "d = n1 * 2\n",
        "t = n1 * 3\n",
        "r = n1 ** (1/2)\n",
        "print('O dobro de {} é {}\\n O triplo de {} é {}\\n A raiz quadrada de {:.2f} é {}'.format(n1, d, n1, t, n1, r))"
      ]
    }
  ]
}