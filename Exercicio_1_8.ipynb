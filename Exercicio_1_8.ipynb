{
  "nbformat": 4,
  "nbformat_minor": 0,
  "metadata": {
    "colab": {
      "provenance": [],
      "authorship_tag": "ABX9TyP5BK1VCgNX0eB19OGoDt/f",
      "include_colab_link": true
    },
    "kernelspec": {
      "name": "python3",
      "display_name": "Python 3"
    },
    "language_info": {
      "name": "python"
    }
  },
  "cells": [
    {
      "cell_type": "markdown",
      "metadata": {
        "id": "view-in-github",
        "colab_type": "text"
      },
      "source": [
        "<a href=\"https://colab.research.google.com/github/brunomoraes87/Estudos/blob/main/Exercicio_1_8.ipynb\" target=\"_parent\"><img src=\"https://colab.research.google.com/assets/colab-badge.svg\" alt=\"Open In Colab\"/></a>"
      ]
    },
    {
      "cell_type": "code",
      "execution_count": 1,
      "metadata": {
        "colab": {
          "base_uri": "https://localhost:8080/"
        },
        "id": "ZYoRMqeG3w4P",
        "outputId": "0fcc5fbe-9de7-46a6-e90e-6adcb624f81c"
      },
      "outputs": [
        {
          "output_type": "stream",
          "name": "stdout",
          "text": [
            "Digite o ângulo que você deseja: 3\n",
            "O ângulo de 3.0 tem o seno de 0.05\n",
            " O ângulo de 3.0 tem o cosseno de 0.05\n",
            " O ângulo de 3.0 tem a Tangente de 1.00\n"
          ]
        }
      ],
      "source": [
        "# FAÇA UM PROGRAMA QUE LEIA UM ÂNGULO QUALQUER E MOSTRE NA TELA O VALOR DO SENO, COSSENO E TANGENTE DESSE ANGULO\n",
        "import math\n",
        "a = float(input(\"Digite o ângulo que você deseja: \"))\n",
        "s = math.sin(math.radians(a))\n",
        "t = math.tan(math.radians(a))\n",
        "c = math.cos(math.radians(a))\n",
        "\n",
        "print(\"O ângulo de {:.1f} tem o seno de {:.2f}\\n O ângulo de {:.1f} tem o cosseno de {:.2f}\\n O ângulo de {:.1f} tem a Tangente de {:.2f}\".format(a, s, a, t, a, c))"
      ]
    }
  ]
}