{
  "nbformat": 4,
  "nbformat_minor": 0,
  "metadata": {
    "colab": {
      "provenance": [],
      "authorship_tag": "ABX9TyOuDLLzS+bmGpm7+xZjwsNZ",
      "include_colab_link": true
    },
    "kernelspec": {
      "name": "python3",
      "display_name": "Python 3"
    },
    "language_info": {
      "name": "python"
    }
  },
  "cells": [
    {
      "cell_type": "markdown",
      "metadata": {
        "id": "view-in-github",
        "colab_type": "text"
      },
      "source": [
        "<a href=\"https://colab.research.google.com/github/brunomoraes87/Estudos/blob/main/Exercicio_4_5.ipynb\" target=\"_parent\"><img src=\"https://colab.research.google.com/assets/colab-badge.svg\" alt=\"Open In Colab\"/></a>"
      ]
    },
    {
      "cell_type": "code",
      "execution_count": 1,
      "metadata": {
        "colab": {
          "base_uri": "https://localhost:8080/"
        },
        "id": "B4PrPbW5EUJR",
        "outputId": "1251eaab-ed41-457e-f8e6-8f9284d6da75"
      },
      "outputs": [
        {
          "output_type": "stream",
          "name": "stdout",
          "text": [
            "##### CONTAGEM REGRESSIVA PARA O ANO NOVO #####\n",
            "10\n",
            "9\n",
            "8\n",
            "7\n",
            "6\n",
            "5\n",
            "4\n",
            "3\n",
            "2\n",
            "1\n",
            "FELIZ ANO NOVO!!!\n"
          ]
        }
      ],
      "source": [
        "# FAÇA UM PROGRAMA QUE MOSTRE NA TELA UMA CONTAGEM  REGRESSIVA PARA O ESTOURO DE FOGOS DE ARTIFICIO. INDO DE 10 ATÉ 0, COM PAUSA DE 1 SEGUNDO ENTRE ELES.\n",
        "\n",
        "from time import sleep\n",
        "\n",
        "print(\"##### CONTAGEM REGRESSIVA PARA O ANO NOVO #####\")\n",
        "for i in range(10,0,-1):\n",
        "    sleep(1)\n",
        "    print(i)\n",
        "print(\"FELIZ ANO NOVO!!!\")"
      ]
    }
  ]
}