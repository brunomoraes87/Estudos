{
  "nbformat": 4,
  "nbformat_minor": 0,
  "metadata": {
    "colab": {
      "provenance": [],
      "authorship_tag": "ABX9TyPMidZre8o+3t0zGUmJJCQh",
      "include_colab_link": true
    },
    "kernelspec": {
      "name": "python3",
      "display_name": "Python 3"
    },
    "language_info": {
      "name": "python"
    }
  },
  "cells": [
    {
      "cell_type": "markdown",
      "metadata": {
        "id": "view-in-github",
        "colab_type": "text"
      },
      "source": [
        "<a href=\"https://colab.research.google.com/github/brunomoraes87/Estudos/blob/main/Exercicio_1_5.ipynb\" target=\"_parent\"><img src=\"https://colab.research.google.com/assets/colab-badge.svg\" alt=\"Open In Colab\"/></a>"
      ]
    },
    {
      "cell_type": "code",
      "execution_count": 1,
      "metadata": {
        "id": "ahNrFYFW2pUR",
        "outputId": "d27a66a1-bf12-4fd1-8ad1-4568f7ebf7bd",
        "colab": {
          "base_uri": "https://localhost:8080/"
        }
      },
      "outputs": [
        {
          "output_type": "stream",
          "name": "stdout",
          "text": [
            "Quantos dias você ficou com o carro?2\n",
            "Quantos KM você percorreu com o carro?100\n",
            "O custo total de diarias é R$ 120.00\n",
            " O custo por KM percorrido é R$ 15.00\n",
            " Totalizando em despesa de R$ 135.0 com o aluguel do carro\n"
          ]
        }
      ],
      "source": [
        "# ESCREVA UM PROGRAMA QUE PERGUNTE A QUANTIDADE DE KM PERCORRIDOS POR UM CARRO ALGUADO E A QUANTIDADE DE DIAS PELOS QUAIS ELE FOI ALUGADO. CALCULE O PREÇO A PAGAR. SABENDO QUE O CARRO CUSTA R$ 60 POR DIA E R$0.15 POR KM RODADO\n",
        "a = int(input(\"Quantos dias você ficou com o carro?\"))\n",
        "km = float(input(\"Quantos KM você percorreu com o carro?\"))\n",
        "ca = a * 60\n",
        "ckm = km * 0.15\n",
        "tc = float(ca + ckm)\n",
        "print(\"O custo total de diarias é R$ {:.2f}\\n O custo por KM percorrido é R$ {:.2f}\\n Totalizando em despesa de R$ {} com o aluguel do carro\".format(ca, ckm, tc))"
      ]
    }
  ]
}