{
  "nbformat": 4,
  "nbformat_minor": 0,
  "metadata": {
    "colab": {
      "provenance": [],
      "authorship_tag": "ABX9TyNKsI3NfazB9Puq6GKDWz1D",
      "include_colab_link": true
    },
    "kernelspec": {
      "name": "python3",
      "display_name": "Python 3"
    },
    "language_info": {
      "name": "python"
    }
  },
  "cells": [
    {
      "cell_type": "markdown",
      "metadata": {
        "id": "view-in-github",
        "colab_type": "text"
      },
      "source": [
        "<a href=\"https://colab.research.google.com/github/brunomoraes87/Estudos/blob/main/Exercicio_4_8.ipynb\" target=\"_parent\"><img src=\"https://colab.research.google.com/assets/colab-badge.svg\" alt=\"Open In Colab\"/></a>"
      ]
    },
    {
      "cell_type": "code",
      "execution_count": 2,
      "metadata": {
        "id": "BvIuDxcMFoP5",
        "outputId": "f6847219-e318-4dab-adc0-e34dbbc96ca0",
        "colab": {
          "base_uri": "https://localhost:8080/"
        }
      },
      "outputs": [
        {
          "output_type": "stream",
          "name": "stdout",
          "text": [
            "Digite um numero: 7\n",
            "===== TABOADA ===== \n",
            "1 x 7 = 7\n",
            "2 x 7 = 14\n",
            "3 x 7 = 21\n",
            "4 x 7 = 28\n",
            "5 x 7 = 35\n",
            "6 x 7 = 42\n",
            "7 x 7 = 49\n",
            "8 x 7 = 56\n",
            "9 x 7 = 63\n",
            "10 x 7 = 70\n"
          ]
        }
      ],
      "source": [
        "# REFAÇA  DESAFIO 009, MOSTRANDO A TABUADA DE UM NÚMERO QUE O USUARIO ESCOLHER, SÓ QUE AGORA UTILIZANDO O LAÇO FOR.\n",
        "n1 = int(input(\"Digite um numero: \"))\n",
        "print(\"{:^20}\".format(\"===== TABOADA =====\"))\n",
        "for i in range(1,11):\n",
        "    print(\"{} x {} = {}\".format(i,n1,n1*i))"
      ]
    }
  ]
}