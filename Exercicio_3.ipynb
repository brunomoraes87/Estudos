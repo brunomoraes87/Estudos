{
  "nbformat": 4,
  "nbformat_minor": 0,
  "metadata": {
    "colab": {
      "provenance": [],
      "authorship_tag": "ABX9TyNQPorgEEdJoYFN5OZB/CHE",
      "include_colab_link": true
    },
    "kernelspec": {
      "name": "python3",
      "display_name": "Python 3"
    },
    "language_info": {
      "name": "python"
    }
  },
  "cells": [
    {
      "cell_type": "markdown",
      "metadata": {
        "id": "view-in-github",
        "colab_type": "text"
      },
      "source": [
        "<a href=\"https://colab.research.google.com/github/brunomoraes87/Estudos/blob/main/Exercicio_3.ipynb\" target=\"_parent\"><img src=\"https://colab.research.google.com/assets/colab-badge.svg\" alt=\"Open In Colab\"/></a>"
      ]
    },
    {
      "cell_type": "code",
      "execution_count": 1,
      "metadata": {
        "colab": {
          "base_uri": "https://localhost:8080/"
        },
        "id": "Y0nsL0VheFMX",
        "outputId": "7c9d2582-871b-4b1c-a808-e4873a831f1e"
      },
      "outputs": [
        {
          "output_type": "stream",
          "name": "stdout",
          "text": [
            "Digite um valor\n",
            "None8\n",
            "Digite outro valor\n",
            "None6\n",
            "A soma entre 8 e 6 vale 14\n"
          ]
        }
      ],
      "source": [
        "# Crie um programa que leia dois numeros e mostre a soma entre eles\n",
        "n1 = int(input(print('Digite um valor')))\n",
        "n2 = int(input(print('Digite outro valor')))\n",
        "s = (n1 + n2)\n",
        "print('A soma entre {} e {} vale {}'.format(n1, n2, s))"
      ]
    }
  ]
}