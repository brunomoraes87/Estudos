{
  "nbformat": 4,
  "nbformat_minor": 0,
  "metadata": {
    "colab": {
      "provenance": [],
      "authorship_tag": "ABX9TyNIGlX6+uYxiDVaKVVa7eIm",
      "include_colab_link": true
    },
    "kernelspec": {
      "name": "python3",
      "display_name": "Python 3"
    },
    "language_info": {
      "name": "python"
    }
  },
  "cells": [
    {
      "cell_type": "markdown",
      "metadata": {
        "id": "view-in-github",
        "colab_type": "text"
      },
      "source": [
        "<a href=\"https://colab.research.google.com/github/brunomoraes87/Estudos/blob/main/Exercicio_9.ipynb\" target=\"_parent\"><img src=\"https://colab.research.google.com/assets/colab-badge.svg\" alt=\"Open In Colab\"/></a>"
      ]
    },
    {
      "cell_type": "code",
      "execution_count": 1,
      "metadata": {
        "colab": {
          "base_uri": "https://localhost:8080/"
        },
        "id": "MAgnFpZMg006",
        "outputId": "abdbff91-e782-4d4b-ce47-dbfcfb000996"
      },
      "outputs": [
        {
          "output_type": "stream",
          "name": "stdout",
          "text": [
            "Digite um numero inteiro7\n",
            "--------------------\n",
            "7 x  1 = 7\n",
            "7 x  2 = 14\n",
            "7 x  3 = 21\n",
            "7 x  4 = 28\n",
            "7 x  5 = 35\n",
            "7 x  6 = 42\n",
            "7 x  7 = 49\n",
            "7 x  8 = 56\n",
            "7 x  9 = 63\n",
            "7 x 10 = 70\n",
            "--------------------\n"
          ]
        }
      ],
      "source": [
        "# Faça um programa que leia um numero inteiro qualquer e mostre na tela a sua tabuaba\n",
        "n1 = int(input('Digite um numero inteiro'))\n",
        "print('-'*20)\n",
        "print('{} x {:2} = {}'.format(n1, 1, (n1 * 1)))\n",
        "print('{} x {:2} = {}'.format(n1, 2, (n1 * 2)))\n",
        "print('{} x {:2} = {}'.format(n1, 3, (n1 * 3)))\n",
        "print('{} x {:2} = {}'.format(n1, 4, (n1 * 4)))\n",
        "print('{} x {:2} = {}'.format(n1, 5, (n1 * 5)))\n",
        "print('{} x {:2} = {}'.format(n1, 6, (n1 * 6)))\n",
        "print('{} x {:2} = {}'.format(n1, 7, (n1 * 7)))\n",
        "print('{} x {:2} = {}'.format(n1, 8, (n1 * 8)))\n",
        "print('{} x {:2} = {}'.format(n1, 9, (n1 * 9)))\n",
        "print('{} x {:2} = {}'.format(n1, 10, (n1 * 10)))\n",
        "print('-' * 20)"
      ]
    }
  ]
}