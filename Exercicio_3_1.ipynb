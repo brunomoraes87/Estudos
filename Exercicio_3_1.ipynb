{
  "nbformat": 4,
  "nbformat_minor": 0,
  "metadata": {
    "colab": {
      "provenance": [],
      "authorship_tag": "ABX9TyP1z/FR9bzVIDvGQUVY/TZ/",
      "include_colab_link": true
    },
    "kernelspec": {
      "name": "python3",
      "display_name": "Python 3"
    },
    "language_info": {
      "name": "python"
    }
  },
  "cells": [
    {
      "cell_type": "markdown",
      "metadata": {
        "id": "view-in-github",
        "colab_type": "text"
      },
      "source": [
        "<a href=\"https://colab.research.google.com/github/brunomoraes87/Estudos/blob/main/Exercicio_3_1.ipynb\" target=\"_parent\"><img src=\"https://colab.research.google.com/assets/colab-badge.svg\" alt=\"Open In Colab\"/></a>"
      ]
    },
    {
      "cell_type": "code",
      "execution_count": 3,
      "metadata": {
        "colab": {
          "base_uri": "https://localhost:8080/"
        },
        "id": "PYQFF_MI9Rnn",
        "outputId": "dd0a87ca-c55e-46c2-df0f-4c60c0ceba52"
      },
      "outputs": [
        {
          "output_type": "stream",
          "name": "stdout",
          "text": [
            "Digite um ano: 2028\n",
            "O ano 2028 é um ano Bissexto\n"
          ]
        }
      ],
      "source": [
        "# FAÇA UM PROGRA,A QUE LEIA UM ANO QUALQUER E MOSTRE SE ELE É BISSEXTO.\n",
        "a1 = int(input(\"Digite um ano: \"))\n",
        "v1 = a1 % 4\n",
        "v2 = a1 % 100\n",
        "if v1 == 0 and v2 != 0:\n",
        "    print(\"O ano {} é um ano Bissexto\".format(a1))\n",
        "else:\n",
        "    print(\"O ano {} é um ano normal\".format(a1))"
      ]
    }
  ]
}