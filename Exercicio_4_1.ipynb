{
  "nbformat": 4,
  "nbformat_minor": 0,
  "metadata": {
    "colab": {
      "provenance": [],
      "authorship_tag": "ABX9TyM4/N9H2iKs7ycuug60eQZ6",
      "include_colab_link": true
    },
    "kernelspec": {
      "name": "python3",
      "display_name": "Python 3"
    },
    "language_info": {
      "name": "python"
    }
  },
  "cells": [
    {
      "cell_type": "markdown",
      "metadata": {
        "id": "view-in-github",
        "colab_type": "text"
      },
      "source": [
        "<a href=\"https://colab.research.google.com/github/brunomoraes87/Estudos/blob/main/Exercicio_4_1.ipynb\" target=\"_parent\"><img src=\"https://colab.research.google.com/assets/colab-badge.svg\" alt=\"Open In Colab\"/></a>"
      ]
    },
    {
      "cell_type": "code",
      "execution_count": 1,
      "metadata": {
        "colab": {
          "base_uri": "https://localhost:8080/"
        },
        "id": "fA9G94mSCa1O",
        "outputId": "2f670054-67e0-4173-a839-b376f24e7eb4"
      },
      "outputs": [
        {
          "output_type": "stream",
          "name": "stdout",
          "text": [
            "=-=-=-=-=-=-=-=-=-=-=-=-=-=-=-=-=-=-=-=-\n",
            "Analisador de Triangulos\n",
            "=-=-=-=-=-=-=-=-=-=-=-=-=-=-=-=-=-=-=-=-\n",
            "Primeiro Segmento: 2\n",
            "Segundo Segmento: 3\n",
            "Terceiro Segmento: 4\n",
            "Os segmentos pode formar um triangulo ESCALENO\n"
          ]
        }
      ],
      "source": [
        "# REFAÇA O DESAFIO 35 DOS TRIANGULOS, ACRESCENTANDO O RECURSO DE MOSTRAR QUE TIPO DE TRIANGULO SERÁ FORMADO:\n",
        "# EQUILATERO: TODOS OS LADOS SÃO IGUAIS\n",
        "# ISOSCELES: DOIS LADOS SÃO IGUAIS\n",
        "# ESCALENO: TODOS OS LADOS SÃO DIFERENTES\n",
        "\n",
        "print('=-'*20)\n",
        "print('Analisador de Triangulos')\n",
        "print('=-'*20)\n",
        "\n",
        "l1 = float(input('Primeiro Segmento: '))\n",
        "l2 = float(input('Segundo Segmento: '))\n",
        "l3 = float(input('Terceiro Segmento: '))\n",
        "\n",
        "if l1 < l2 + l3 and l2 < l1 + l3 and l3 < l1 + l2:\n",
        "    if l1 == l2 == l3:\n",
        "        seg = \"EQUILATERO\"\n",
        "    elif l1 != l2 != l3 != l1:\n",
        "        seg = \"ESCALENO\"\n",
        "    else:\n",
        "        seg = \"ISOSCELES\"\n",
        "    print('Os segmentos pode formar um triangulo {}'.format(seg))\n",
        "else:\n",
        "    print('Os segmentos não podem formar um triangulo.')"
      ]
    }
  ]
}