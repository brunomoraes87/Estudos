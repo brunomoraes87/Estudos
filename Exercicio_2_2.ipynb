{
  "nbformat": 4,
  "nbformat_minor": 0,
  "metadata": {
    "colab": {
      "provenance": [],
      "authorship_tag": "ABX9TyPXLFgzv5Pc1Iw27hWJnsrM",
      "include_colab_link": true
    },
    "kernelspec": {
      "name": "python3",
      "display_name": "Python 3"
    },
    "language_info": {
      "name": "python"
    }
  },
  "cells": [
    {
      "cell_type": "markdown",
      "metadata": {
        "id": "view-in-github",
        "colab_type": "text"
      },
      "source": [
        "<a href=\"https://colab.research.google.com/github/brunomoraes87/Estudos/blob/main/Exercicio_2_2.ipynb\" target=\"_parent\"><img src=\"https://colab.research.google.com/assets/colab-badge.svg\" alt=\"Open In Colab\"/></a>"
      ]
    },
    {
      "cell_type": "code",
      "execution_count": 2,
      "metadata": {
        "colab": {
          "base_uri": "https://localhost:8080/"
        },
        "id": "fY5ZyHuU5xRH",
        "outputId": "dffe9824-b6ad-44c7-d714-e849f14f702d"
      },
      "outputs": [
        {
          "output_type": "stream",
          "name": "stdout",
          "text": [
            "Infome um número: 7824\n",
            "Unidade: 4\n",
            "Dezena: 2\n",
            "Centena: 8\n",
            "Milhar: 7\n"
          ]
        }
      ],
      "source": [
        "# FAÇA UM PROGRAMA QUE LEIA UM NÚMERO DE 0 A 9999 E MOSTRE NA TELA CADA UM DOS DIGITOS SEPARADOS.\n",
        "# EX: DIGITE UM NUMERO: 1834\n",
        "# UNIDADE:4\n",
        "# DEZENA: 3\n",
        "# CENTENA: 8\n",
        "# MILHAR: 1\n",
        "\n",
        "n1 = int(input(\"Infome um número: \"))\n",
        "u = n1 // 1 % 10\n",
        "d = n1 // 10 % 10\n",
        "c = n1 // 100 % 10\n",
        "m = n1 // 1000 % 10\n",
        "print(\"Unidade: {}\".format(u))\n",
        "print(\"Dezena: {}\".format(d))\n",
        "print(\"Centena: {}\".format(c))\n",
        "print(\"Milhar: {}\".format(m))"
      ]
    }
  ]
}