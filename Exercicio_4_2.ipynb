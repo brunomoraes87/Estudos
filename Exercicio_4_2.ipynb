{
  "nbformat": 4,
  "nbformat_minor": 0,
  "metadata": {
    "colab": {
      "provenance": [],
      "authorship_tag": "ABX9TyMff+MqQCI+zBkWhpwKbF+b",
      "include_colab_link": true
    },
    "kernelspec": {
      "name": "python3",
      "display_name": "Python 3"
    },
    "language_info": {
      "name": "python"
    }
  },
  "cells": [
    {
      "cell_type": "markdown",
      "metadata": {
        "id": "view-in-github",
        "colab_type": "text"
      },
      "source": [
        "<a href=\"https://colab.research.google.com/github/brunomoraes87/Estudos/blob/main/Exercicio_4_2.ipynb\" target=\"_parent\"><img src=\"https://colab.research.google.com/assets/colab-badge.svg\" alt=\"Open In Colab\"/></a>"
      ]
    },
    {
      "cell_type": "code",
      "execution_count": 3,
      "metadata": {
        "colab": {
          "base_uri": "https://localhost:8080/"
        },
        "id": "PxZT0f7oCuQp",
        "outputId": "8cfad6b8-7381-4fa7-a976-d089f2576b43"
      },
      "outputs": [
        {
          "output_type": "stream",
          "name": "stdout",
          "text": [
            "Qual é o seu peso? (KG)75\n",
            "Qual é a sua altura? (M)1.75\n",
            "Seu IMC é 24.5 e você está NO PESO IDEAL\n"
          ]
        }
      ],
      "source": [
        "# DESENVOLVA UMA LOGICA QUE LEIA O PESO E A ALTURA DE UMA PESSOA, CALCULE SEU IMC E MOSTRE SEU STATUS DE ACORDO COM A TABELA ABAIXO:\n",
        "# ABAIXO DE 18.5: ABAIXO DO PESO\n",
        "# ENTRE 18.5 E 25: PESO IDEAL\n",
        "# ENTRE 25 E 30: SOBREPESO\n",
        "# ENTRE 30 E 40: OBESIDADE\n",
        "# ACIMA DE 40: OBESIDADE MORBIDA\n",
        "\n",
        "peso = float(input('Qual é o seu peso? (KG)'))\n",
        "altura = float(input('Qual é a sua altura? (M)'))\n",
        "\n",
        "imc = peso / (altura * altura)\n",
        "\n",
        "if imc < 18.5:\n",
        "    classe = \"ABAIXO DO PESO\"\n",
        "elif imc <25:\n",
        "    classe = \"NO PESO IDEAL\"\n",
        "elif imc <30:\n",
        "    classe = \"SOBRE PESO\"\n",
        "elif imc <40:\n",
        "    classe = \"OBESIDADE\"\n",
        "else:\n",
        "    classe = \"OBESIDADE MORBIDA\"\n",
        "\n",
        "print(\"Seu IMC é {:.1F} e você está {}\".format(imc,classe))"
      ]
    }
  ]
}