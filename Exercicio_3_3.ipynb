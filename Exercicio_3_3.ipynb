{
  "nbformat": 4,
  "nbformat_minor": 0,
  "metadata": {
    "colab": {
      "provenance": [],
      "authorship_tag": "ABX9TyPeJoH4kxa1BAjDRI1hSjTH",
      "include_colab_link": true
    },
    "kernelspec": {
      "name": "python3",
      "display_name": "Python 3"
    },
    "language_info": {
      "name": "python"
    }
  },
  "cells": [
    {
      "cell_type": "markdown",
      "metadata": {
        "id": "view-in-github",
        "colab_type": "text"
      },
      "source": [
        "<a href=\"https://colab.research.google.com/github/brunomoraes87/Estudos/blob/main/Exercicio_3_3.ipynb\" target=\"_parent\"><img src=\"https://colab.research.google.com/assets/colab-badge.svg\" alt=\"Open In Colab\"/></a>"
      ]
    },
    {
      "cell_type": "code",
      "execution_count": 1,
      "metadata": {
        "colab": {
          "base_uri": "https://localhost:8080/"
        },
        "id": "axV6nByf953t",
        "outputId": "d2732fea-4b0d-445c-ccbd-6a7da1485f08"
      },
      "outputs": [
        {
          "output_type": "stream",
          "name": "stdout",
          "text": [
            "Qual é o salario do funcionario? R$ 1100\n",
            "Para funcionarios que ganha R$ 1100.00 passará a ganhar R$ 1265.00\n"
          ]
        }
      ],
      "source": [
        "# ESCREVA UM PROGRAMA QUE PERGUNTE O SALARIO DE UM FUNCIONARIO E CALCULE O VALOR DO SEU AUMENTO\n",
        "# PARA SALARIOS SUPERIORES A 1250 CALCULE AUMENTO DE 10%\n",
        "# PARA OS INFERIORES OU IGAUIS, O AUMENTO É DE 15%\n",
        "s1 = float(input(\"Qual é o salario do funcionario? R$ \"))\n",
        "if s1 <= 1250:\n",
        "    n1 = (s1 * 0.15) + s1\n",
        "else:\n",
        "    n1 = (s1 * 0.10) + s1\n",
        "print(\"Para funcionarios que ganha R$ {:.2f} passará a ganhar R$ {:.2f}\".format(s1,n1))"
      ]
    }
  ]
}