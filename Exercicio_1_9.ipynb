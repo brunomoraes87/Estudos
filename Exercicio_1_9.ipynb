{
  "nbformat": 4,
  "nbformat_minor": 0,
  "metadata": {
    "colab": {
      "provenance": [],
      "authorship_tag": "ABX9TyPajSaO+yV8qPWWb/dKwLOd",
      "include_colab_link": true
    },
    "kernelspec": {
      "name": "python3",
      "display_name": "Python 3"
    },
    "language_info": {
      "name": "python"
    }
  },
  "cells": [
    {
      "cell_type": "markdown",
      "metadata": {
        "id": "view-in-github",
        "colab_type": "text"
      },
      "source": [
        "<a href=\"https://colab.research.google.com/github/brunomoraes87/Estudos/blob/main/Exercicio_1_9.ipynb\" target=\"_parent\"><img src=\"https://colab.research.google.com/assets/colab-badge.svg\" alt=\"Open In Colab\"/></a>"
      ]
    },
    {
      "cell_type": "code",
      "execution_count": 3,
      "metadata": {
        "colab": {
          "base_uri": "https://localhost:8080/"
        },
        "id": "7g3FHWdf4JBu",
        "outputId": "53541263-7d4b-47fd-a75b-8d25fcc55f3c"
      },
      "outputs": [
        {
          "output_type": "stream",
          "name": "stdout",
          "text": [
            "Primeiro Aluno: Bruno\n",
            "Segundo Aluno: Thaís\n",
            "Terceiro Aluno: Beatriz\n",
            "Quarto Aluno: Bento\n",
            "O aluno escolhido foi Thaís\n"
          ]
        }
      ],
      "source": [
        "# UM PROFESSOR QUER SORTEAR UM DOS SEUS QUATRO ALUNOS PARA APAGAR O QUADRO. FAÇA UM PROGRAMA QUE AJUDE ELE LENDO O NOME DELES E ESCREVENDO O NOME ESCOLHIDO\n",
        "from random import choice\n",
        "a1 = input(\"Primeiro Aluno: \")\n",
        "a2 = input(\"Segundo Aluno: \")\n",
        "a3 = input(\"Terceiro Aluno: \")\n",
        "a4 = input(\"Quarto Aluno: \")\n",
        "lista = [a1, a2, a3, a4]\n",
        "\n",
        "print(\"O aluno escolhido foi {}\".format(choice(lista)))"
      ]
    }
  ]
}