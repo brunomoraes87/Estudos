{
  "nbformat": 4,
  "nbformat_minor": 0,
  "metadata": {
    "colab": {
      "provenance": [],
      "authorship_tag": "ABX9TyM/WhT9AKyo8E4bvk8UxwSx",
      "include_colab_link": true
    },
    "kernelspec": {
      "name": "python3",
      "display_name": "Python 3"
    },
    "language_info": {
      "name": "python"
    }
  },
  "cells": [
    {
      "cell_type": "markdown",
      "metadata": {
        "id": "view-in-github",
        "colab_type": "text"
      },
      "source": [
        "<a href=\"https://colab.research.google.com/github/brunomoraes87/Estudos/blob/main/Exercicio_5_3.ipynb\" target=\"_parent\"><img src=\"https://colab.research.google.com/assets/colab-badge.svg\" alt=\"Open In Colab\"/></a>"
      ]
    },
    {
      "cell_type": "code",
      "execution_count": 1,
      "metadata": {
        "colab": {
          "base_uri": "https://localhost:8080/"
        },
        "id": "a1Z3nrwXIdDR",
        "outputId": "bb3801dc-5000-4f75-9337-d19526855c4e"
      },
      "outputs": [
        {
          "output_type": "stream",
          "name": "stdout",
          "text": [
            "Peso da 1° pessoa: 102\n",
            "Peso da 2° pessoa: 97\n",
            "Peso da 3° pessoa: 85\n",
            "Peso da 4° pessoa: 72\n",
            "Peso da 5° pessoa: 105\n",
            "O maior peso lido foi de 105.0Kg\n",
            "O menor peso lido foi de 72.0Kg\n"
          ]
        }
      ],
      "source": [
        "# FAÇA UM PROGRAMA QUE LEIA O PESO DE CINCO PESSOAS. NO FINAL E MOSTRE QUAL FOI O MAIOR E MENOR PESO LIDOS.\n",
        "\n",
        "maior = 0\n",
        "menor = 0\n",
        "\n",
        "for i in range(1,6):\n",
        "    peso = float(input(\"Peso da {}° pessoa: \".format(i)))\n",
        "    if i == 1:\n",
        "        maior = i\n",
        "        menor = i\n",
        "    if peso > maior:\n",
        "        maior = peso\n",
        "    else:\n",
        "        menor = peso\n",
        "print(\"O maior peso lido foi de {}Kg\".format(maior))\n",
        "print(\"O menor peso lido foi de {}Kg\".format(menor))"
      ]
    }
  ]
}